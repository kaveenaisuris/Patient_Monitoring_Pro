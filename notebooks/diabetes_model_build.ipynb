{
 "cells": [
  {
   "cell_type": "code",
   "execution_count": 26,
   "id": "e8893813-3fdb-43e4-a5de-3871bc074581",
   "metadata": {},
   "outputs": [],
   "source": [
    "import numpy as np\n",
    "import pandas as pd\n",
    "import matplotlib.pyplot as plt"
   ]
  },
  {
   "cell_type": "code",
   "execution_count": 27,
   "id": "0d9412f6-ab5e-47cb-93e4-693f1dc08981",
   "metadata": {},
   "outputs": [],
   "source": [
    "data = pd.read_csv('../artifacts/diabetes.csv')"
   ]
  },
  {
   "cell_type": "code",
   "execution_count": 28,
   "id": "c55c0a23-90e0-4e08-b950-f70ced24bc33",
   "metadata": {},
   "outputs": [
    {
     "data": {
      "text/html": [
       "<div>\n",
       "<style scoped>\n",
       "    .dataframe tbody tr th:only-of-type {\n",
       "        vertical-align: middle;\n",
       "    }\n",
       "\n",
       "    .dataframe tbody tr th {\n",
       "        vertical-align: top;\n",
       "    }\n",
       "\n",
       "    .dataframe thead th {\n",
       "        text-align: right;\n",
       "    }\n",
       "</style>\n",
       "<table border=\"1\" class=\"dataframe\">\n",
       "  <thead>\n",
       "    <tr style=\"text-align: right;\">\n",
       "      <th></th>\n",
       "      <th>Pregnancies</th>\n",
       "      <th>Glucose</th>\n",
       "      <th>BloodPressure</th>\n",
       "      <th>SkinThickness</th>\n",
       "      <th>Insulin</th>\n",
       "      <th>BMI</th>\n",
       "      <th>DiabetesPedigreeFunction</th>\n",
       "      <th>Age</th>\n",
       "      <th>Outcome</th>\n",
       "    </tr>\n",
       "  </thead>\n",
       "  <tbody>\n",
       "    <tr>\n",
       "      <th>0</th>\n",
       "      <td>6</td>\n",
       "      <td>148</td>\n",
       "      <td>72</td>\n",
       "      <td>35</td>\n",
       "      <td>0</td>\n",
       "      <td>33.6</td>\n",
       "      <td>0.627</td>\n",
       "      <td>50</td>\n",
       "      <td>1</td>\n",
       "    </tr>\n",
       "    <tr>\n",
       "      <th>1</th>\n",
       "      <td>1</td>\n",
       "      <td>85</td>\n",
       "      <td>66</td>\n",
       "      <td>29</td>\n",
       "      <td>0</td>\n",
       "      <td>26.6</td>\n",
       "      <td>0.351</td>\n",
       "      <td>31</td>\n",
       "      <td>0</td>\n",
       "    </tr>\n",
       "    <tr>\n",
       "      <th>2</th>\n",
       "      <td>8</td>\n",
       "      <td>183</td>\n",
       "      <td>64</td>\n",
       "      <td>0</td>\n",
       "      <td>0</td>\n",
       "      <td>23.3</td>\n",
       "      <td>0.672</td>\n",
       "      <td>32</td>\n",
       "      <td>1</td>\n",
       "    </tr>\n",
       "    <tr>\n",
       "      <th>3</th>\n",
       "      <td>1</td>\n",
       "      <td>89</td>\n",
       "      <td>66</td>\n",
       "      <td>23</td>\n",
       "      <td>94</td>\n",
       "      <td>28.1</td>\n",
       "      <td>0.167</td>\n",
       "      <td>21</td>\n",
       "      <td>0</td>\n",
       "    </tr>\n",
       "    <tr>\n",
       "      <th>4</th>\n",
       "      <td>0</td>\n",
       "      <td>137</td>\n",
       "      <td>40</td>\n",
       "      <td>35</td>\n",
       "      <td>168</td>\n",
       "      <td>43.1</td>\n",
       "      <td>2.288</td>\n",
       "      <td>33</td>\n",
       "      <td>1</td>\n",
       "    </tr>\n",
       "  </tbody>\n",
       "</table>\n",
       "</div>"
      ],
      "text/plain": [
       "   Pregnancies  Glucose  BloodPressure  SkinThickness  Insulin   BMI  \\\n",
       "0            6      148             72             35        0  33.6   \n",
       "1            1       85             66             29        0  26.6   \n",
       "2            8      183             64              0        0  23.3   \n",
       "3            1       89             66             23       94  28.1   \n",
       "4            0      137             40             35      168  43.1   \n",
       "\n",
       "   DiabetesPedigreeFunction  Age  Outcome  \n",
       "0                     0.627   50        1  \n",
       "1                     0.351   31        0  \n",
       "2                     0.672   32        1  \n",
       "3                     0.167   21        0  \n",
       "4                     2.288   33        1  "
      ]
     },
     "execution_count": 28,
     "metadata": {},
     "output_type": "execute_result"
    }
   ],
   "source": [
    "data.head()"
   ]
  },
  {
   "cell_type": "markdown",
   "id": "f70a633f-5cc5-453a-839b-0df900fda659",
   "metadata": {},
   "source": [
    "## Data Preprocessing"
   ]
  },
  {
   "cell_type": "code",
   "execution_count": 29,
   "id": "8d53e848-4abd-4396-af30-1b61ad573aac",
   "metadata": {},
   "outputs": [
    {
     "data": {
      "text/plain": [
       "(768, 9)"
      ]
     },
     "execution_count": 29,
     "metadata": {},
     "output_type": "execute_result"
    }
   ],
   "source": [
    "data.shape"
   ]
  },
  {
   "cell_type": "code",
   "execution_count": 30,
   "id": "b543d7a3-4418-497d-8c93-9133268f0414",
   "metadata": {},
   "outputs": [
    {
     "data": {
      "text/plain": [
       "np.int64(0)"
      ]
     },
     "execution_count": 30,
     "metadata": {},
     "output_type": "execute_result"
    }
   ],
   "source": [
    "data.duplicated().sum()"
   ]
  },
  {
   "cell_type": "code",
   "execution_count": 31,
   "id": "4ddd6f72-716e-4b72-b45e-37b667f0fd71",
   "metadata": {},
   "outputs": [
    {
     "data": {
      "text/plain": [
       "Pregnancies                 0\n",
       "Glucose                     0\n",
       "BloodPressure               0\n",
       "SkinThickness               0\n",
       "Insulin                     0\n",
       "BMI                         0\n",
       "DiabetesPedigreeFunction    0\n",
       "Age                         0\n",
       "Outcome                     0\n",
       "dtype: int64"
      ]
     },
     "execution_count": 31,
     "metadata": {},
     "output_type": "execute_result"
    }
   ],
   "source": [
    "data.isnull().sum()"
   ]
  },
  {
   "cell_type": "markdown",
   "id": "56e2079b-ae97-452b-bbe6-958b209c2b55",
   "metadata": {},
   "source": [
    "## Build Vacabulary"
   ]
  },
  {
   "cell_type": "code",
   "execution_count": 32,
   "id": "f5a81a9e-0d02-4ad2-9afa-2457d786bb17",
   "metadata": {},
   "outputs": [
    {
     "data": {
      "text/plain": [
       "0      50\n",
       "1      31\n",
       "2      32\n",
       "3      21\n",
       "4      33\n",
       "       ..\n",
       "763    63\n",
       "764    27\n",
       "765    30\n",
       "766    47\n",
       "767    23\n",
       "Name: Age, Length: 768, dtype: int64"
      ]
     },
     "execution_count": 32,
     "metadata": {},
     "output_type": "execute_result"
    }
   ],
   "source": [
    "data['Age']"
   ]
  },
  {
   "cell_type": "code",
   "execution_count": 46,
   "id": "c5954ba7-4305-4d7c-9a4a-0418ccd7f45d",
   "metadata": {},
   "outputs": [
    {
     "name": "stdout",
     "output_type": "stream",
     "text": [
      "Value counts in 'Pregnancies':\n",
      "Counter({1: 135, 0: 111, 2: 103, 3: 75, 4: 68, 5: 57, 6: 50, 7: 45, 8: 38, 9: 28, 10: 24, 11: 11, 13: 10, 12: 9, 14: 2, 15: 1, 17: 1})\n"
     ]
    }
   ],
   "source": [
    "import pandas as pd\n",
    "from collections import Counter\n",
    "\n",
    "# Load dataset\n",
    "df = pd.read_csv('../artifacts/diabetes.csv')\n",
    "\n",
    "# Initialize a dictionary to store counts\n",
    "column_counters = {}\n",
    "\n",
    "# List of columns to analyze\n",
    "columns = ['Pregnancies', 'Glucose', 'BloodPressure', 'SkinThickness',\n",
    "           'Insulin', 'BMI', 'DiabetesPedigreeFunction', 'Age']\n",
    "\n",
    "# Count value frequencies in each column\n",
    "for column in columns:\n",
    "    column_counters[column] = Counter(df[column])\n",
    "\n",
    "# Example: Print value counts for one column\n",
    "print(\"Value counts in 'Pregnancies':\")\n",
    "print(column_counters['Pregnancies'])"
   ]
  },
  {
   "cell_type": "code",
   "execution_count": 47,
   "id": "7e6ffb0d-aed7-4b5c-b8f4-25d7e7aea50d",
   "metadata": {},
   "outputs": [
    {
     "name": "stdout",
     "output_type": "stream",
     "text": [
      "Value counts in 'Glucose':\n",
      "Counter({100: 17, 99: 17, 125: 14, 111: 14, 106: 14, 129: 14, 102: 13, 105: 13, 95: 13, 112: 13, 108: 13, 109: 12, 122: 12, 107: 11, 119: 11, 117: 11, 90: 11, 114: 11, 124: 11, 120: 11, 128: 11, 115: 10, 84: 10, 103: 9, 126: 9, 97: 9, 88: 9, 92: 9, 146: 9, 101: 9, 123: 9, 91: 9, 137: 8, 139: 8, 158: 8, 136: 8, 96: 8, 85: 7, 116: 7, 147: 7, 144: 7, 93: 7, 87: 7, 130: 7, 94: 7, 89: 6, 110: 6, 118: 6, 143: 6, 83: 6, 80: 6, 81: 6, 134: 6, 151: 6, 162: 6, 173: 6, 154: 6, 104: 6, 121: 6, 145: 5, 138: 5, 180: 5, 133: 5, 141: 5, 0: 5, 131: 5, 113: 5, 142: 5, 155: 5, 132: 5, 179: 5, 181: 5, 140: 5, 127: 5, 148: 4, 78: 4, 197: 4, 168: 4, 189: 4, 71: 4, 187: 4, 74: 4, 152: 4, 135: 4, 165: 4, 183: 3, 166: 3, 196: 3, 171: 3, 150: 3, 73: 3, 79: 3, 163: 3, 156: 3, 194: 3, 184: 3, 164: 3, 86: 3, 161: 3, 167: 3, 98: 3, 82: 3, 68: 3, 159: 2, 176: 2, 76: 2, 170: 2, 57: 2, 153: 2, 188: 2, 75: 2, 193: 2, 77: 2, 157: 2, 175: 2, 195: 2, 174: 2, 44: 1, 62: 1, 160: 1, 177: 1, 191: 1, 182: 1, 178: 1, 61: 1, 72: 1, 172: 1, 186: 1, 198: 1, 67: 1, 199: 1, 56: 1, 169: 1, 149: 1, 65: 1, 190: 1})\n"
     ]
    }
   ],
   "source": [
    "print(\"Value counts in 'Glucose':\")\n",
    "print(column_counters['Glucose'])"
   ]
  },
  {
   "cell_type": "code",
   "execution_count": 48,
   "id": "0f000024-6276-4f59-ac60-1e4b4ccb6cd7",
   "metadata": {},
   "outputs": [
    {
     "name": "stdout",
     "output_type": "stream",
     "text": [
      "Value counts in 'BloodPressure':\n",
      "Counter({70: 57, 74: 52, 78: 45, 68: 45, 72: 44, 64: 43, 80: 40, 76: 39, 60: 37, 0: 35, 62: 34, 66: 30, 82: 30, 88: 25, 84: 23, 90: 22, 58: 21, 86: 21, 50: 13, 56: 12, 54: 11, 52: 11, 92: 8, 75: 8, 65: 7, 94: 6, 85: 6, 48: 5, 96: 4, 44: 4, 110: 3, 98: 3, 100: 3, 106: 3, 30: 2, 108: 2, 55: 2, 104: 2, 46: 2, 40: 1, 122: 1, 95: 1, 102: 1, 61: 1, 24: 1, 38: 1, 114: 1})\n"
     ]
    }
   ],
   "source": [
    "print(\"Value counts in 'BloodPressure':\")\n",
    "print(column_counters['BloodPressure'])"
   ]
  },
  {
   "cell_type": "code",
   "execution_count": 49,
   "id": "c6386478-de28-4e9d-8b4c-91cc05a4546b",
   "metadata": {},
   "outputs": [
    {
     "name": "stdout",
     "output_type": "stream",
     "text": [
      "Value counts in 'SkinThickness':\n",
      "Counter({0: 227, 32: 31, 30: 27, 27: 23, 23: 22, 33: 20, 18: 20, 28: 20, 31: 19, 19: 18, 39: 18, 29: 17, 26: 16, 37: 16, 25: 16, 22: 16, 40: 16, 35: 15, 41: 15, 15: 14, 36: 14, 17: 14, 20: 13, 24: 12, 42: 11, 13: 11, 21: 10, 34: 8, 46: 8, 38: 7, 12: 7, 45: 6, 11: 6, 14: 6, 16: 6, 43: 6, 10: 5, 44: 5, 47: 4, 48: 4, 50: 3, 49: 3, 54: 2, 7: 2, 52: 2, 8: 2, 60: 1, 51: 1, 56: 1, 63: 1, 99: 1})\n"
     ]
    }
   ],
   "source": [
    "print(\"Value counts in 'SkinThickness':\")\n",
    "print(column_counters['SkinThickness'])"
   ]
  },
  {
   "cell_type": "code",
   "execution_count": 50,
   "id": "b4510626-962b-4c2d-88a2-3cac56b741f7",
   "metadata": {},
   "outputs": [
    {
     "name": "stdout",
     "output_type": "stream",
     "text": [
      "Value counts in 'SkinThickness':\n",
      "Counter({0: 227, 32: 31, 30: 27, 27: 23, 23: 22, 33: 20, 18: 20, 28: 20, 31: 19, 19: 18, 39: 18, 29: 17, 26: 16, 37: 16, 25: 16, 22: 16, 40: 16, 35: 15, 41: 15, 15: 14, 36: 14, 17: 14, 20: 13, 24: 12, 42: 11, 13: 11, 21: 10, 34: 8, 46: 8, 38: 7, 12: 7, 45: 6, 11: 6, 14: 6, 16: 6, 43: 6, 10: 5, 44: 5, 47: 4, 48: 4, 50: 3, 49: 3, 54: 2, 7: 2, 52: 2, 8: 2, 60: 1, 51: 1, 56: 1, 63: 1, 99: 1})\n"
     ]
    }
   ],
   "source": [
    "print(\"Value counts in 'SkinThickness':\")\n",
    "print(column_counters['SkinThickness'])"
   ]
  },
  {
   "cell_type": "code",
   "execution_count": 51,
   "id": "8389148a-f5ec-425a-bbad-c7a7c347f58c",
   "metadata": {},
   "outputs": [
    {
     "name": "stdout",
     "output_type": "stream",
     "text": [
      "Value counts in 'Insulin':\n",
      "Counter({0: 374, 105: 11, 140: 9, 130: 9, 120: 8, 94: 7, 100: 7, 180: 7, 115: 6, 110: 6, 135: 6, 76: 5, 49: 5, 210: 5, 56: 5, 66: 5, 168: 4, 88: 4, 54: 4, 90: 4, 71: 4, 125: 4, 64: 4, 155: 4, 160: 4, 190: 4, 165: 4, 200: 4, 175: 3, 83: 3, 70: 3, 82: 3, 36: 3, 176: 3, 48: 3, 145: 3, 50: 3, 92: 3, 325: 3, 63: 3, 156: 3, 44: 3, 45: 3, 194: 3, 75: 3, 74: 3, 182: 3, 215: 3, 106: 3, 126: 3, 230: 2, 96: 2, 192: 2, 207: 2, 240: 2, 23: 2, 220: 2, 40: 2, 152: 2, 18: 2, 495: 2, 37: 2, 99: 2, 225: 2, 53: 2, 114: 2, 285: 2, 78: 2, 55: 2, 58: 2, 87: 2, 150: 2, 67: 2, 57: 2, 116: 2, 122: 2, 132: 2, 148: 2, 205: 2, 85: 2, 231: 2, 167: 2, 293: 2, 158: 2, 170: 2, 60: 2, 95: 2, 480: 2, 265: 2, 79: 2, 77: 2, 185: 2, 144: 2, 543: 1, 846: 1, 235: 1, 146: 1, 245: 1, 300: 1, 342: 1, 304: 1, 142: 1, 128: 1, 38: 1, 270: 1, 228: 1, 51: 1, 284: 1, 119: 1, 204: 1, 485: 1, 318: 1, 280: 1, 271: 1, 129: 1, 478: 1, 32: 1, 744: 1, 370: 1, 680: 1, 402: 1, 258: 1, 375: 1, 278: 1, 545: 1, 360: 1, 184: 1, 42: 1, 29: 1, 68: 1, 52: 1, 255: 1, 171: 1, 73: 1, 108: 1, 43: 1, 249: 1, 465: 1, 89: 1, 84: 1, 72: 1, 59: 1, 81: 1, 196: 1, 415: 1, 275: 1, 579: 1, 310: 1, 61: 1, 474: 1, 277: 1, 14: 1, 237: 1, 191: 1, 328: 1, 250: 1, 193: 1, 86: 1, 326: 1, 188: 1, 65: 1, 166: 1, 274: 1, 330: 1, 600: 1, 25: 1, 41: 1, 272: 1, 321: 1, 15: 1, 183: 1, 91: 1, 46: 1, 440: 1, 159: 1, 540: 1, 335: 1, 387: 1, 22: 1, 291: 1, 392: 1, 178: 1, 127: 1, 510: 1, 16: 1, 112: 1})\n"
     ]
    }
   ],
   "source": [
    "print(\"Value counts in 'Insulin':\")\n",
    "print(column_counters['Insulin'])"
   ]
  },
  {
   "cell_type": "code",
   "execution_count": 52,
   "id": "1862418b-35dc-403d-a8f2-bcfa47a34ca0",
   "metadata": {},
   "outputs": [
    {
     "name": "stdout",
     "output_type": "stream",
     "text": [
      "Value counts in 'BMI':\n",
      "Counter({32.0: 13, 31.6: 12, 31.2: 12, 0.0: 11, 32.4: 10, 33.3: 10, 30.1: 9, 32.9: 9, 32.8: 9, 30.8: 9, 33.6: 8, 29.7: 8, 34.2: 8, 30.5: 7, 30.0: 7, 39.4: 7, 27.6: 7, 33.2: 7, 28.7: 7, 30.4: 7, 35.5: 7, 25.9: 7, 27.8: 7, 25.6: 6, 34.0: 6, 24.2: 6, 25.0: 6, 32.5: 6, 28.9: 6, 38.5: 6, 34.3: 6, 25.2: 6, 28.4: 6, 34.9: 6, 36.8: 6, 37.6: 5, 43.3: 5, 34.6: 5, 29.0: 5, 36.6: 5, 27.4: 5, 28.0: 5, 33.7: 5, 37.7: 5, 24.7: 5, 29.3: 5, 29.5: 5, 34.5: 5, 33.8: 5, 29.9: 5, 35.9: 5, 30.9: 5, 35.8: 5, 27.5: 5, 21.8: 5, 26.6: 4, 35.3: 4, 29.6: 4, 35.4: 4, 34.1: 4, 24.0: 4, 38.2: 4, 39.1: 4, 34.7: 4, 25.4: 4, 24.6: 4, 39.0: 4, 26.8: 4, 42.9: 4, 21.1: 4, 27.3: 4, 40.6: 4, 37.2: 4, 27.7: 4, 24.3: 4, 35.7: 4, 35.0: 4, 26.0: 4, 26.2: 4, 23.1: 4, 34.4: 4, 36.5: 4, 27.1: 3, 23.2: 3, 24.8: 3, 24.4: 3, 40.5: 3, 19.6: 3, 35.1: 3, 26.5: 3, 26.1: 3, 22.5: 3, 37.4: 3, 36.9: 3, 39.5: 3, 21.9: 3, 32.7: 3, 33.1: 3, 37.8: 3, 23.6: 3, 36.3: 3, 25.1: 3, 38.7: 3, 36.1: 3, 32.3: 3, 38.1: 3, 23.5: 3, 39.9: 3, 29.8: 3, 42.4: 3, 18.2: 3, 26.4: 3, 45.3: 3, 41.3: 3, 42.3: 3, 28.5: 3, 23.3: 2, 31.0: 2, 38.0: 2, 25.8: 2, 39.8: 2, 22.2: 2, 36.0: 2, 37.1: 2, 23.0: 2, 46.8: 2, 41.5: 2, 42.7: 2, 28.6: 2, 43.4: 2, 22.4: 2, 23.8: 2, 33.9: 2, 20.4: 2, 28.2: 2, 27.9: 2, 47.9: 2, 40.9: 2, 44.2: 2, 31.9: 2, 43.5: 2, 22.6: 2, 52.3: 2, 22.9: 2, 34.8: 2, 23.9: 2, 37.5: 2, 28.8: 2, 44.0: 2, 46.2: 2, 43.6: 2, 40.0: 2, 45.6: 2, 25.3: 2, 37.9: 2, 27.0: 2, 20.8: 2, 21.0: 2, 25.5: 2, 27.2: 2, 39.2: 2, 38.4: 2, 23.7: 2, 22.1: 2, 42.1: 2, 46.1: 2, 35.2: 2, 36.4: 2, 19.5: 2, 28.3: 2, 35.6: 2, 44.5: 2, 28.1: 1, 43.1: 1, 45.8: 1, 39.3: 1, 31.1: 1, 19.9: 1, 40.2: 1, 22.7: 1, 45.4: 1, 42.0: 1, 19.4: 1, 32.6: 1, 43.2: 1, 48.8: 1, 19.1: 1, 46.7: 1, 49.7: 1, 39.6: 1, 53.2: 1, 55.0: 1, 38.3: 1, 50.0: 1, 67.1: 1, 45.0: 1, 40.1: 1, 42.8: 1, 42.6: 1, 41.8: 1, 36.7: 1, 45.2: 1, 44.1: 1, 18.4: 1, 29.2: 1, 32.1: 1, 24.9: 1, 30.7: 1, 52.9: 1, 39.7: 1, 19.3: 1, 45.5: 1, 41.0: 1, 42.2: 1, 36.2: 1, 48.3: 1, 20.0: 1, 22.3: 1, 45.7: 1, 37.0: 1, 24.5: 1, 32.2: 1, 59.4: 1, 21.2: 1, 26.7: 1, 30.2: 1, 38.8: 1, 40.7: 1, 46.5: 1, 33.5: 1, 37.3: 1, 30.3: 1, 26.3: 1, 21.7: 1, 26.9: 1, 38.6: 1, 31.3: 1, 20.1: 1, 40.8: 1, 23.4: 1, 38.9: 1, 57.3: 1, 49.6: 1, 44.6: 1, 24.1: 1, 41.2: 1, 49.3: 1, 46.3: 1})\n"
     ]
    }
   ],
   "source": [
    "print(\"Value counts in 'BMI':\")\n",
    "print(column_counters['BMI'])"
   ]
  },
  {
   "cell_type": "code",
   "execution_count": 53,
   "id": "c490f240-cc44-40a4-8ec5-7b0c25e51bd4",
   "metadata": {},
   "outputs": [
    {
     "name": "stdout",
     "output_type": "stream",
     "text": [
      "Value counts in 'DiabetesPedigreeFunction':\n",
      "Counter({0.254: 6, 0.258: 6, 0.261: 5, 0.207: 5, 0.268: 5, 0.238: 5, 0.259: 5, 0.167: 4, 0.551: 4, 0.263: 4, 0.245: 4, 0.304: 4, 0.27: 4, 0.237: 4, 0.26: 4, 0.687: 4, 0.19: 4, 0.299: 4, 0.284: 4, 0.692: 4, 0.197: 4, 0.587: 3, 0.205: 3, 0.257: 3, 0.337: 3, 0.235: 3, 0.294: 3, 0.305: 3, 0.583: 3, 0.391: 3, 0.178: 3, 0.165: 3, 0.443: 3, 0.496: 3, 0.452: 3, 0.256: 3, 0.142: 3, 0.187: 3, 0.236: 3, 0.151: 3, 0.2: 3, 0.422: 3, 0.28: 3, 0.34: 3, 0.52: 3, 0.148: 3, 0.389: 3, 0.349: 3, 0.292: 3, 0.141: 3, 0.248: 2, 0.134: 2, 0.158: 2, 0.191: 2, 0.183: 2, 0.267: 2, 0.586: 2, 0.344: 2, 0.342: 2, 0.962: 2, 0.203: 2, 0.334: 2, 0.189: 2, 0.231: 2, 0.14: 2, 0.37: 2, 0.324: 2, 0.153: 2, 0.761: 2, 0.323: 2, 0.356: 2, 0.262: 2, 0.336: 2, 0.247: 2, 0.543: 2, 0.192: 2, 0.654: 2, 0.223: 2, 0.278: 2, 0.403: 2, 0.361: 2, 0.647: 2, 0.088: 2, 0.159: 2, 0.286: 2, 0.218: 2, 0.085: 2, 0.137: 2, 0.637: 2, 0.204: 2, 0.368: 2, 0.471: 2, 0.18: 2, 0.542: 2, 0.678: 2, 0.244: 2, 0.64: 2, 0.905: 2, 0.15: 2, 0.787: 2, 0.407: 2, 0.605: 2, 0.289: 2, 0.29: 2, 0.164: 2, 0.514: 2, 1.224: 2, 0.209: 2, 0.198: 2, 0.652: 2, 0.293: 2, 0.686: 2, 0.582: 2, 0.402: 2, 0.282: 2, 0.143: 2, 0.38: 2, 0.249: 2, 0.557: 2, 0.24: 2, 0.128: 2, 0.251: 2, 0.434: 2, 0.412: 2, 0.839: 2, 0.326: 2, 0.875: 2, 0.313: 2, 0.433: 2, 0.315: 2, 0.129: 2, 0.527: 2, 0.127: 2, 0.343: 2, 0.252: 2, 0.559: 2, 0.302: 2, 0.378: 2, 0.306: 2, 0.234: 2, 0.528: 2, 0.66: 2, 0.444: 2, 0.161: 2, 0.674: 2, 0.219: 2, 0.328: 2, 0.233: 2, 0.727: 2, 0.497: 2, 0.23: 2, 0.285: 2, 0.415: 2, 0.212: 2, 0.364: 2, 0.733: 2, 0.269: 2, 0.6: 2, 0.126: 2, 0.466: 2, 0.365: 2, 0.536: 2, 0.314: 2, 0.968: 2, 0.591: 2, 0.121: 2, 0.43: 2, 0.206: 2, 0.4: 2, 0.455: 2, 0.439: 2, 0.627: 1, 0.351: 1, 0.672: 1, 2.288: 1, 0.201: 1, 0.232: 1, 0.537: 1, 1.441: 1, 0.398: 1, 0.484: 1, 0.529: 1, 0.704: 1, 0.388: 1, 0.451: 1, 0.487: 1, 0.546: 1, 0.851: 1, 0.188: 1, 0.512: 1, 0.966: 1, 0.42: 1, 0.665: 1, 0.503: 1, 1.39: 1, 0.271: 1, 0.696: 1, 0.721: 1, 1.893: 1, 0.564: 1, 0.491: 1, 0.526: 1, 0.467: 1, 0.718: 1, 1.781: 1, 0.173: 1, 0.699: 1, 0.855: 1, 0.845: 1, 0.867: 1, 0.411: 1, 0.396: 1, 0.307: 1, 0.102: 1, 0.767: 1, 0.227: 1, 0.698: 1, 0.277: 1, 0.255: 1, 0.13: 1, 0.325: 1, 1.222: 1, 0.179: 1, 0.283: 1, 0.93: 1, 0.801: 1, 0.287: 1, 0.199: 1, 0.588: 1, 0.539: 1, 0.22: 1, 0.759: 1, 0.404: 1, 0.186: 1, 0.741: 1, 1.114: 1, 0.457: 1, 0.597: 1, 0.532: 1, 0.703: 1, 0.318: 1, 0.272: 1, 0.572: 1, 0.096: 1, 1.4: 1, 0.399: 1, 0.432: 1, 1.189: 1, 0.833: 1, 0.229: 1, 0.817: 1, 0.743: 1, 0.722: 1, 0.709: 1, 0.495: 1, 0.773: 1, 0.719: 1, 0.382: 1, 0.319: 1, 0.956: 1, 0.084: 1, 0.725: 1, 0.745: 1, 0.615: 1, 1.321: 1, 0.374: 1, 0.383: 1, 0.578: 1, 0.136: 1, 0.395: 1, 0.874: 1, 0.355: 1, 0.375: 1, 0.431: 1, 0.742: 1, 0.464: 1, 1.072: 1, 0.805: 1, 0.666: 1, 0.101: 1, 2.329: 1, 0.089: 1, 0.645: 1, 0.394: 1, 0.479: 1, 0.831: 1, 0.446: 1, 1.318: 1, 0.329: 1, 1.213: 1, 0.427: 1, 0.926: 1, 0.092: 1, 0.655: 1, 1.353: 1, 0.612: 1, 0.226: 1, 0.997: 1, 0.933: 1, 1.101: 1, 0.078: 1, 1.136: 1, 0.677: 1, 0.296: 1, 0.454: 1, 0.744: 1, 0.881: 1, 0.619: 1, 0.808: 1, 0.757: 1, 0.613: 1, 0.84: 1, 0.156: 1, 0.215: 1, 1.391: 1, 0.626: 1, 1.127: 1, 0.345: 1, 0.731: 1, 0.123: 1, 0.122: 1, 1.476: 1, 0.166: 1, 0.932: 1, 0.893: 1, 0.331: 1, 0.472: 1, 0.673: 1, 0.485: 1, 0.279: 1, 0.346: 1, 0.243: 1, 0.58: 1, 0.569: 1, 0.385: 1, 0.499: 1, 2.137: 1, 1.731: 1, 0.545: 1, 0.225: 1, 0.816: 1, 0.509: 1, 1.021: 1, 0.821: 1, 0.947: 1, 1.268: 1, 0.221: 1, 0.239: 1, 0.949: 1, 0.463: 1, 0.803: 1, 1.6: 1, 0.944: 1, 0.196: 1, 0.241: 1, 0.135: 1, 0.376: 1, 1.191: 1, 0.702: 1, 1.076: 1, 0.534: 1, 1.095: 1, 0.554: 1, 0.624: 1, 0.507: 1, 0.561: 1, 0.421: 1, 0.516: 1, 0.264: 1, 0.108: 1, 1.138: 1, 0.147: 1, 0.435: 1, 0.955: 1, 2.42: 1, 0.658: 1, 0.33: 1, 0.51: 1, 0.381: 1, 0.832: 1, 0.498: 1, 1.001: 1, 0.46: 1, 0.416: 1, 0.705: 1, 1.022: 1, 0.571: 1, 0.607: 1, 0.17: 1, 0.21: 1, 0.711: 1, 0.162: 1, 0.419: 1, 0.63: 1, 1.159: 1, 0.629: 1, 0.145: 1, 1.144: 1, 0.174: 1, 0.547: 1, 0.163: 1, 0.738: 1, 0.409: 1, 0.297: 1, 0.525: 1, 0.154: 1, 0.771: 1, 0.107: 1, 0.493: 1, 0.717: 1, 0.917: 1, 0.501: 1, 1.251: 1, 0.735: 1, 0.804: 1, 0.661: 1, 0.549: 1, 0.825: 1, 0.423: 1, 1.034: 1, 0.16: 1, 0.341: 1, 0.68: 1, 0.3: 1, 0.502: 1, 0.401: 1, 0.601: 1, 0.748: 1, 0.338: 1, 0.892: 1, 0.813: 1, 0.693: 1, 0.575: 1, 0.371: 1, 0.417: 1, 1.154: 1, 0.925: 1, 0.175: 1, 1.699: 1, 0.682: 1, 0.194: 1, 0.1: 1, 1.258: 1, 0.482: 1, 0.138: 1, 0.593: 1, 0.878: 1, 0.157: 1, 1.282: 1, 0.246: 1, 1.698: 1, 1.461: 1, 0.347: 1, 0.362: 1, 0.393: 1, 0.144: 1, 0.732: 1, 0.115: 1, 0.465: 1, 0.649: 1, 0.871: 1, 0.149: 1, 0.695: 1, 0.303: 1, 0.61: 1, 0.73: 1, 0.447: 1, 0.133: 1, 0.155: 1, 1.162: 1, 1.292: 1, 0.182: 1, 1.394: 1, 0.217: 1, 0.631: 1, 0.88: 1, 0.614: 1, 0.332: 1, 0.366: 1, 0.181: 1, 0.828: 1, 0.335: 1, 0.856: 1, 0.886: 1, 0.253: 1, 0.598: 1, 0.904: 1, 0.483: 1, 0.565: 1, 0.118: 1, 0.177: 1, 0.176: 1, 0.295: 1, 0.441: 1, 0.352: 1, 0.826: 1, 0.97: 1, 0.595: 1, 0.317: 1, 0.265: 1, 0.646: 1, 0.426: 1, 0.56: 1, 0.515: 1, 0.453: 1, 0.785: 1, 0.734: 1, 1.174: 1, 0.488: 1, 0.358: 1, 1.096: 1, 0.408: 1, 1.182: 1, 0.222: 1, 1.057: 1, 0.766: 1, 0.171: 1})\n"
     ]
    }
   ],
   "source": [
    "print(\"Value counts in 'DiabetesPedigreeFunction':\")\n",
    "print(column_counters['DiabetesPedigreeFunction'])"
   ]
  },
  {
   "cell_type": "code",
   "execution_count": 54,
   "id": "7ff3aa1d-5890-4745-8994-398e84216ab8",
   "metadata": {},
   "outputs": [
    {
     "name": "stdout",
     "output_type": "stream",
     "text": [
      "Value counts in 'Age':\n",
      "Counter({22: 72, 21: 63, 25: 48, 24: 46, 23: 38, 28: 35, 26: 33, 27: 32, 29: 29, 31: 24, 41: 22, 30: 21, 37: 19, 42: 18, 33: 17, 32: 16, 38: 16, 36: 16, 45: 15, 34: 14, 43: 13, 46: 13, 40: 13, 39: 12, 35: 10, 50: 8, 51: 8, 44: 8, 52: 8, 58: 7, 54: 6, 47: 6, 53: 5, 57: 5, 60: 5, 48: 5, 49: 5, 62: 4, 55: 4, 66: 4, 63: 4, 59: 3, 56: 3, 65: 3, 67: 3, 61: 2, 69: 2, 72: 1, 81: 1, 64: 1, 70: 1, 68: 1})\n"
     ]
    }
   ],
   "source": [
    "print(\"Value counts in 'Age':\")\n",
    "print(column_counters['Age'])"
   ]
  },
  {
   "cell_type": "code",
   "execution_count": 58,
   "id": "2ce702ad-30b1-47a5-b394-d2f0bf7d49a3",
   "metadata": {},
   "outputs": [
    {
     "name": "stdout",
     "output_type": "stream",
     "text": [
      "Model accuracy: 0.7467532467532467\n"
     ]
    }
   ],
   "source": [
    "from sklearn.linear_model import LogisticRegression\n",
    "from sklearn.model_selection import train_test_split\n",
    "from sklearn.metrics import accuracy_score\n",
    "\n",
    "# Step 1: Split data\n",
    "X = df.drop(\"Outcome\", axis=1)\n",
    "y = df[\"Outcome\"]\n",
    "X_train, X_test, y_train, y_test = train_test_split(X, y, test_size=0.2, random_state=42)\n",
    "\n",
    "# Step 2: Train model\n",
    "model = LogisticRegression(max_iter=1000)\n",
    "model.fit(X_train, y_train)\n",
    "\n",
    "# Step 3: Predict\n",
    "y_pred = model.predict(X_test)\n",
    "\n",
    "# Step 4: Evaluate\n",
    "accuracy = accuracy_score(y_test, y_pred)\n",
    "print(\"Model accuracy:\", accuracy)\n"
   ]
  },
  {
   "cell_type": "code",
   "execution_count": 76,
   "id": "ae4200ad-a676-4efc-8c9a-ce1e0175cfe4",
   "metadata": {},
   "outputs": [
    {
     "name": "stdout",
     "output_type": "stream",
     "text": [
      "Prediction: Diabetes\n"
     ]
    }
   ],
   "source": [
    "import pandas as pd\n",
    "\n",
    "# One sample (replace values with your own input)\n",
    "sample_data = [[10, 139, 80, 0, 0, 27.1, 1.441, 57]]\n",
    "\n",
    "# Use the same column names as in training\n",
    "columns = ['Pregnancies', 'Glucose', 'BloodPressure', 'SkinThickness',\n",
    "           'Insulin', 'BMI', 'DiabetesPedigreeFunction', 'Age']\n",
    "\n",
    "# Create a DataFrame for the sample\n",
    "sample_df = pd.DataFrame(sample_data, columns=columns)\n",
    "\n",
    "# Predict\n",
    "prediction = model.predict(sample_df)\n",
    "\n",
    "print(\"Prediction:\", \"Diabetes\" if prediction[0] == 1 else \"No Diabetes\")\n"
   ]
  },
  {
   "cell_type": "code",
   "execution_count": 83,
   "id": "074009e3-433e-4625-bbb6-2894de689bcf",
   "metadata": {},
   "outputs": [
    {
     "name": "stdout",
     "output_type": "stream",
     "text": [
      "                     Column  Unique Value Count\n",
      "0               Pregnancies                  17\n",
      "1                   Glucose                 136\n",
      "2             BloodPressure                  47\n",
      "3             SkinThickness                  51\n",
      "4                   Insulin                 186\n",
      "5                       BMI                 248\n",
      "6  DiabetesPedigreeFunction                 517\n",
      "7                       Age                  52\n"
     ]
    }
   ],
   "source": [
    "import pandas as pd\n",
    "from collections import Counter\n",
    "\n",
    "# Load your CSV file\n",
    "df = pd.read_csv(\"../artifacts/diabetes.csv\")  # Adjust path if needed\n",
    "\n",
    "# Define columns to analyze\n",
    "columns = ['Pregnancies', 'Glucose', 'BloodPressure', 'SkinThickness',\n",
    "           'Insulin', 'BMI', 'DiabetesPedigreeFunction', 'Age']\n",
    "\n",
    "# Count unique values per column\n",
    "unique_counts = {col: len(Counter(df[col])) for col in columns}\n",
    "\n",
    "# Convert to DataFrame for clean output\n",
    "unique_counts_df = pd.DataFrame(unique_counts.items(), columns=[\"Column\", \"Unique Value Count\"])\n",
    "\n",
    "# Show result\n",
    "print(unique_counts_df)\n"
   ]
  },
  {
   "cell_type": "code",
   "execution_count": 84,
   "id": "a0e5e1b1-a98e-4cfa-a5e7-f64477a353d0",
   "metadata": {},
   "outputs": [
    {
     "name": "stdout",
     "output_type": "stream",
     "text": [
      "\n",
      "Value counts for column: Pregnancies\n",
      "Pregnancies\n",
      "0     111\n",
      "1     135\n",
      "2     103\n",
      "3      75\n",
      "4      68\n",
      "5      57\n",
      "6      50\n",
      "7      45\n",
      "8      38\n",
      "9      28\n",
      "10     24\n",
      "11     11\n",
      "12      9\n",
      "13     10\n",
      "14      2\n",
      "15      1\n",
      "17      1\n",
      "Name: count, dtype: int64\n",
      "\n",
      "Value counts for column: Glucose\n",
      "Glucose\n",
      "0      5\n",
      "44     1\n",
      "56     1\n",
      "57     2\n",
      "61     1\n",
      "      ..\n",
      "195    2\n",
      "196    3\n",
      "197    4\n",
      "198    1\n",
      "199    1\n",
      "Name: count, Length: 136, dtype: int64\n",
      "\n",
      "Value counts for column: BloodPressure\n",
      "BloodPressure\n",
      "0      35\n",
      "24      1\n",
      "30      2\n",
      "38      1\n",
      "40      1\n",
      "44      4\n",
      "46      2\n",
      "48      5\n",
      "50     13\n",
      "52     11\n",
      "54     11\n",
      "55      2\n",
      "56     12\n",
      "58     21\n",
      "60     37\n",
      "61      1\n",
      "62     34\n",
      "64     43\n",
      "65      7\n",
      "66     30\n",
      "68     45\n",
      "70     57\n",
      "72     44\n",
      "74     52\n",
      "75      8\n",
      "76     39\n",
      "78     45\n",
      "80     40\n",
      "82     30\n",
      "84     23\n",
      "85      6\n",
      "86     21\n",
      "88     25\n",
      "90     22\n",
      "92      8\n",
      "94      6\n",
      "95      1\n",
      "96      4\n",
      "98      3\n",
      "100     3\n",
      "102     1\n",
      "104     2\n",
      "106     3\n",
      "108     2\n",
      "110     3\n",
      "114     1\n",
      "122     1\n",
      "Name: count, dtype: int64\n",
      "\n",
      "Value counts for column: SkinThickness\n",
      "SkinThickness\n",
      "0     227\n",
      "7       2\n",
      "8       2\n",
      "10      5\n",
      "11      6\n",
      "12      7\n",
      "13     11\n",
      "14      6\n",
      "15     14\n",
      "16      6\n",
      "17     14\n",
      "18     20\n",
      "19     18\n",
      "20     13\n",
      "21     10\n",
      "22     16\n",
      "23     22\n",
      "24     12\n",
      "25     16\n",
      "26     16\n",
      "27     23\n",
      "28     20\n",
      "29     17\n",
      "30     27\n",
      "31     19\n",
      "32     31\n",
      "33     20\n",
      "34      8\n",
      "35     15\n",
      "36     14\n",
      "37     16\n",
      "38      7\n",
      "39     18\n",
      "40     16\n",
      "41     15\n",
      "42     11\n",
      "43      6\n",
      "44      5\n",
      "45      6\n",
      "46      8\n",
      "47      4\n",
      "48      4\n",
      "49      3\n",
      "50      3\n",
      "51      1\n",
      "52      2\n",
      "54      2\n",
      "56      1\n",
      "60      1\n",
      "63      1\n",
      "99      1\n",
      "Name: count, dtype: int64\n",
      "\n",
      "Value counts for column: Insulin\n",
      "Insulin\n",
      "0      374\n",
      "14       1\n",
      "15       1\n",
      "16       1\n",
      "18       2\n",
      "      ... \n",
      "579      1\n",
      "600      1\n",
      "680      1\n",
      "744      1\n",
      "846      1\n",
      "Name: count, Length: 186, dtype: int64\n",
      "\n",
      "Value counts for column: BMI\n",
      "BMI\n",
      "0.0     11\n",
      "18.2     3\n",
      "18.4     1\n",
      "19.1     1\n",
      "19.3     1\n",
      "        ..\n",
      "53.2     1\n",
      "55.0     1\n",
      "57.3     1\n",
      "59.4     1\n",
      "67.1     1\n",
      "Name: count, Length: 248, dtype: int64\n",
      "\n",
      "Value counts for column: DiabetesPedigreeFunction\n",
      "DiabetesPedigreeFunction\n",
      "0.078    1\n",
      "0.084    1\n",
      "0.085    2\n",
      "0.088    2\n",
      "0.089    1\n",
      "        ..\n",
      "1.893    1\n",
      "2.137    1\n",
      "2.288    1\n",
      "2.329    1\n",
      "2.420    1\n",
      "Name: count, Length: 517, dtype: int64\n",
      "\n",
      "Value counts for column: Age\n",
      "Age\n",
      "21    63\n",
      "22    72\n",
      "23    38\n",
      "24    46\n",
      "25    48\n",
      "26    33\n",
      "27    32\n",
      "28    35\n",
      "29    29\n",
      "30    21\n",
      "31    24\n",
      "32    16\n",
      "33    17\n",
      "34    14\n",
      "35    10\n",
      "36    16\n",
      "37    19\n",
      "38    16\n",
      "39    12\n",
      "40    13\n",
      "41    22\n",
      "42    18\n",
      "43    13\n",
      "44     8\n",
      "45    15\n",
      "46    13\n",
      "47     6\n",
      "48     5\n",
      "49     5\n",
      "50     8\n",
      "51     8\n",
      "52     8\n",
      "53     5\n",
      "54     6\n",
      "55     4\n",
      "56     3\n",
      "57     5\n",
      "58     7\n",
      "59     3\n",
      "60     5\n",
      "61     2\n",
      "62     4\n",
      "63     4\n",
      "64     1\n",
      "65     3\n",
      "66     4\n",
      "67     3\n",
      "68     1\n",
      "69     2\n",
      "70     1\n",
      "72     1\n",
      "81     1\n",
      "Name: count, dtype: int64\n"
     ]
    }
   ],
   "source": [
    "import pandas as pd\n",
    "\n",
    "# Load dataset\n",
    "df = pd.read_csv(\"../artifacts/diabetes.csv\")  # Adjust path if needed\n",
    "\n",
    "# List of relevant columns\n",
    "columns = ['Pregnancies', 'Glucose', 'BloodPressure', 'SkinThickness',\n",
    "           'Insulin', 'BMI', 'DiabetesPedigreeFunction', 'Age']\n",
    "\n",
    "# Loop through each column and print value counts\n",
    "for col in columns:\n",
    "    print(f\"\\nValue counts for column: {col}\")\n",
    "    print(df[col].value_counts().sort_index())\n"
   ]
  },
  {
   "cell_type": "code",
   "execution_count": 86,
   "id": "abdddb8c-9667-4548-b69f-1415586af026",
   "metadata": {},
   "outputs": [],
   "source": [
    "from collections import Counter\n",
    "\n",
    "# Example: get unique values from Glucose column as strings\n",
    "tokens = list(map(str, Counter(df['Glucose']).keys()))\n"
   ]
  },
  {
   "cell_type": "code",
   "execution_count": 87,
   "id": "b77cbbbe-063d-4edc-99f8-17535378ed4a",
   "metadata": {},
   "outputs": [],
   "source": [
    "def save_vocabulary(lines, filename):\n",
    "    data = '\\n'.join(lines)\n",
    "    with open(filename, 'w', encoding='utf-8') as file:\n",
    "        file.write(data)\n",
    "\n",
    "# Now save to file\n",
    "save_vocabulary(tokens, '../static/model/glucose_vocab.txt')  # make sure folder exists\n"
   ]
  },
  {
   "cell_type": "code",
   "execution_count": 98,
   "id": "f3cb11e7-b878-4136-92aa-f99ab3d3de51",
   "metadata": {},
   "outputs": [
    {
     "name": "stdout",
     "output_type": "stream",
     "text": [
      "Saved vocabulary for column 'Pregnancies' to static/model/pregnancies_vocab.txt\n",
      "Saved vocabulary for column 'Glucose' to static/model/glucose_vocab.txt\n",
      "Saved vocabulary for column 'BloodPressure' to static/model/bloodpressure_vocab.txt\n",
      "Saved vocabulary for column 'SkinThickness' to static/model/skinthickness_vocab.txt\n",
      "Saved vocabulary for column 'Insulin' to static/model/insulin_vocab.txt\n",
      "Saved vocabulary for column 'BMI' to static/model/bmi_vocab.txt\n",
      "Saved vocabulary for column 'DiabetesPedigreeFunction' to static/model/diabetespedigreefunction_vocab.txt\n",
      "Saved vocabulary for column 'Age' to static/model/age_vocab.txt\n"
     ]
    }
   ],
   "source": [
    "import pandas as pd\n",
    "from collections import Counter\n",
    "import os\n",
    "\n",
    "# Load your dataset\n",
    "df = pd.read_csv(\"../artifacts/diabetes.csv\")  # Adjust the path if needed\n",
    "\n",
    "# Columns to process\n",
    "columns = ['Pregnancies', 'Glucose', 'BloodPressure', 'SkinThickness',\n",
    "           'Insulin', 'BMI', 'DiabetesPedigreeFunction', 'Age']\n",
    "\n",
    "# Ensure directory exists\n",
    "os.makedirs(\"static/model\", exist_ok=True)\n",
    "\n",
    "# Function to save vocabulary\n",
    "def save_vocabulary(lines, filename):\n",
    "    data = '\\n'.join(lines)\n",
    "    with open(filename, 'w', encoding='utf-8') as file:\n",
    "        file.write(data)\n",
    "\n",
    "# Process each column\n",
    "for col in columns:\n",
    "    tokens = list(map(str, Counter(df[col]).keys()))\n",
    "    save_vocabulary(tokens, f'../static/model/{col.lower()}_vocab.txt')\n",
    "    print(f\"Saved vocabulary for column '{col}' to static/model/{col.lower()}_vocab.txt\")\n"
   ]
  },
  {
   "cell_type": "markdown",
   "id": "d13bb73c-a608-472c-a56e-c90810be5e1b",
   "metadata": {},
   "source": [
    "## Divide Dataset"
   ]
  },
  {
   "cell_type": "code",
   "execution_count": 90,
   "id": "8a774d20-f305-4061-a666-fed16bacb583",
   "metadata": {},
   "outputs": [
    {
     "data": {
      "text/html": [
       "<div>\n",
       "<style scoped>\n",
       "    .dataframe tbody tr th:only-of-type {\n",
       "        vertical-align: middle;\n",
       "    }\n",
       "\n",
       "    .dataframe tbody tr th {\n",
       "        vertical-align: top;\n",
       "    }\n",
       "\n",
       "    .dataframe thead th {\n",
       "        text-align: right;\n",
       "    }\n",
       "</style>\n",
       "<table border=\"1\" class=\"dataframe\">\n",
       "  <thead>\n",
       "    <tr style=\"text-align: right;\">\n",
       "      <th></th>\n",
       "      <th>Pregnancies</th>\n",
       "      <th>Glucose</th>\n",
       "      <th>BloodPressure</th>\n",
       "      <th>SkinThickness</th>\n",
       "      <th>Insulin</th>\n",
       "      <th>BMI</th>\n",
       "      <th>DiabetesPedigreeFunction</th>\n",
       "      <th>Age</th>\n",
       "      <th>Outcome</th>\n",
       "    </tr>\n",
       "  </thead>\n",
       "  <tbody>\n",
       "    <tr>\n",
       "      <th>0</th>\n",
       "      <td>6</td>\n",
       "      <td>148</td>\n",
       "      <td>72</td>\n",
       "      <td>35</td>\n",
       "      <td>0</td>\n",
       "      <td>33.6</td>\n",
       "      <td>0.627</td>\n",
       "      <td>50</td>\n",
       "      <td>1</td>\n",
       "    </tr>\n",
       "    <tr>\n",
       "      <th>1</th>\n",
       "      <td>1</td>\n",
       "      <td>85</td>\n",
       "      <td>66</td>\n",
       "      <td>29</td>\n",
       "      <td>0</td>\n",
       "      <td>26.6</td>\n",
       "      <td>0.351</td>\n",
       "      <td>31</td>\n",
       "      <td>0</td>\n",
       "    </tr>\n",
       "    <tr>\n",
       "      <th>2</th>\n",
       "      <td>8</td>\n",
       "      <td>183</td>\n",
       "      <td>64</td>\n",
       "      <td>0</td>\n",
       "      <td>0</td>\n",
       "      <td>23.3</td>\n",
       "      <td>0.672</td>\n",
       "      <td>32</td>\n",
       "      <td>1</td>\n",
       "    </tr>\n",
       "    <tr>\n",
       "      <th>3</th>\n",
       "      <td>1</td>\n",
       "      <td>89</td>\n",
       "      <td>66</td>\n",
       "      <td>23</td>\n",
       "      <td>94</td>\n",
       "      <td>28.1</td>\n",
       "      <td>0.167</td>\n",
       "      <td>21</td>\n",
       "      <td>0</td>\n",
       "    </tr>\n",
       "    <tr>\n",
       "      <th>4</th>\n",
       "      <td>0</td>\n",
       "      <td>137</td>\n",
       "      <td>40</td>\n",
       "      <td>35</td>\n",
       "      <td>168</td>\n",
       "      <td>43.1</td>\n",
       "      <td>2.288</td>\n",
       "      <td>33</td>\n",
       "      <td>1</td>\n",
       "    </tr>\n",
       "    <tr>\n",
       "      <th>...</th>\n",
       "      <td>...</td>\n",
       "      <td>...</td>\n",
       "      <td>...</td>\n",
       "      <td>...</td>\n",
       "      <td>...</td>\n",
       "      <td>...</td>\n",
       "      <td>...</td>\n",
       "      <td>...</td>\n",
       "      <td>...</td>\n",
       "    </tr>\n",
       "    <tr>\n",
       "      <th>763</th>\n",
       "      <td>10</td>\n",
       "      <td>101</td>\n",
       "      <td>76</td>\n",
       "      <td>48</td>\n",
       "      <td>180</td>\n",
       "      <td>32.9</td>\n",
       "      <td>0.171</td>\n",
       "      <td>63</td>\n",
       "      <td>0</td>\n",
       "    </tr>\n",
       "    <tr>\n",
       "      <th>764</th>\n",
       "      <td>2</td>\n",
       "      <td>122</td>\n",
       "      <td>70</td>\n",
       "      <td>27</td>\n",
       "      <td>0</td>\n",
       "      <td>36.8</td>\n",
       "      <td>0.340</td>\n",
       "      <td>27</td>\n",
       "      <td>0</td>\n",
       "    </tr>\n",
       "    <tr>\n",
       "      <th>765</th>\n",
       "      <td>5</td>\n",
       "      <td>121</td>\n",
       "      <td>72</td>\n",
       "      <td>23</td>\n",
       "      <td>112</td>\n",
       "      <td>26.2</td>\n",
       "      <td>0.245</td>\n",
       "      <td>30</td>\n",
       "      <td>0</td>\n",
       "    </tr>\n",
       "    <tr>\n",
       "      <th>766</th>\n",
       "      <td>1</td>\n",
       "      <td>126</td>\n",
       "      <td>60</td>\n",
       "      <td>0</td>\n",
       "      <td>0</td>\n",
       "      <td>30.1</td>\n",
       "      <td>0.349</td>\n",
       "      <td>47</td>\n",
       "      <td>1</td>\n",
       "    </tr>\n",
       "    <tr>\n",
       "      <th>767</th>\n",
       "      <td>1</td>\n",
       "      <td>93</td>\n",
       "      <td>70</td>\n",
       "      <td>31</td>\n",
       "      <td>0</td>\n",
       "      <td>30.4</td>\n",
       "      <td>0.315</td>\n",
       "      <td>23</td>\n",
       "      <td>0</td>\n",
       "    </tr>\n",
       "  </tbody>\n",
       "</table>\n",
       "<p>768 rows × 9 columns</p>\n",
       "</div>"
      ],
      "text/plain": [
       "     Pregnancies  Glucose  BloodPressure  SkinThickness  Insulin   BMI  \\\n",
       "0              6      148             72             35        0  33.6   \n",
       "1              1       85             66             29        0  26.6   \n",
       "2              8      183             64              0        0  23.3   \n",
       "3              1       89             66             23       94  28.1   \n",
       "4              0      137             40             35      168  43.1   \n",
       "..           ...      ...            ...            ...      ...   ...   \n",
       "763           10      101             76             48      180  32.9   \n",
       "764            2      122             70             27        0  36.8   \n",
       "765            5      121             72             23      112  26.2   \n",
       "766            1      126             60              0        0  30.1   \n",
       "767            1       93             70             31        0  30.4   \n",
       "\n",
       "     DiabetesPedigreeFunction  Age  Outcome  \n",
       "0                       0.627   50        1  \n",
       "1                       0.351   31        0  \n",
       "2                       0.672   32        1  \n",
       "3                       0.167   21        0  \n",
       "4                       2.288   33        1  \n",
       "..                        ...  ...      ...  \n",
       "763                     0.171   63        0  \n",
       "764                     0.340   27        0  \n",
       "765                     0.245   30        0  \n",
       "766                     0.349   47        1  \n",
       "767                     0.315   23        0  \n",
       "\n",
       "[768 rows x 9 columns]"
      ]
     },
     "execution_count": 90,
     "metadata": {},
     "output_type": "execute_result"
    }
   ],
   "source": [
    "data"
   ]
  },
  {
   "cell_type": "code",
   "execution_count": 94,
   "id": "c3673c4d-9307-4cb3-9be9-7f08c62976ca",
   "metadata": {},
   "outputs": [],
   "source": [
    "x = datax = data[['Pregnancies', 'Glucose', 'BloodPressure', 'SkinThickness',\n",
    "          'Insulin', 'BMI', 'DiabetesPedigreeFunction', 'Age']]\n",
    "y = data['Outcome']"
   ]
  },
  {
   "cell_type": "code",
   "execution_count": 95,
   "id": "060b1d30-6fbf-4c04-9ed7-a99ac6cb10ab",
   "metadata": {},
   "outputs": [
    {
     "data": {
      "text/html": [
       "<div>\n",
       "<style scoped>\n",
       "    .dataframe tbody tr th:only-of-type {\n",
       "        vertical-align: middle;\n",
       "    }\n",
       "\n",
       "    .dataframe tbody tr th {\n",
       "        vertical-align: top;\n",
       "    }\n",
       "\n",
       "    .dataframe thead th {\n",
       "        text-align: right;\n",
       "    }\n",
       "</style>\n",
       "<table border=\"1\" class=\"dataframe\">\n",
       "  <thead>\n",
       "    <tr style=\"text-align: right;\">\n",
       "      <th></th>\n",
       "      <th>Pregnancies</th>\n",
       "      <th>Glucose</th>\n",
       "      <th>BloodPressure</th>\n",
       "      <th>SkinThickness</th>\n",
       "      <th>Insulin</th>\n",
       "      <th>BMI</th>\n",
       "      <th>DiabetesPedigreeFunction</th>\n",
       "      <th>Age</th>\n",
       "    </tr>\n",
       "  </thead>\n",
       "  <tbody>\n",
       "    <tr>\n",
       "      <th>0</th>\n",
       "      <td>6</td>\n",
       "      <td>148</td>\n",
       "      <td>72</td>\n",
       "      <td>35</td>\n",
       "      <td>0</td>\n",
       "      <td>33.6</td>\n",
       "      <td>0.627</td>\n",
       "      <td>50</td>\n",
       "    </tr>\n",
       "    <tr>\n",
       "      <th>1</th>\n",
       "      <td>1</td>\n",
       "      <td>85</td>\n",
       "      <td>66</td>\n",
       "      <td>29</td>\n",
       "      <td>0</td>\n",
       "      <td>26.6</td>\n",
       "      <td>0.351</td>\n",
       "      <td>31</td>\n",
       "    </tr>\n",
       "    <tr>\n",
       "      <th>2</th>\n",
       "      <td>8</td>\n",
       "      <td>183</td>\n",
       "      <td>64</td>\n",
       "      <td>0</td>\n",
       "      <td>0</td>\n",
       "      <td>23.3</td>\n",
       "      <td>0.672</td>\n",
       "      <td>32</td>\n",
       "    </tr>\n",
       "    <tr>\n",
       "      <th>3</th>\n",
       "      <td>1</td>\n",
       "      <td>89</td>\n",
       "      <td>66</td>\n",
       "      <td>23</td>\n",
       "      <td>94</td>\n",
       "      <td>28.1</td>\n",
       "      <td>0.167</td>\n",
       "      <td>21</td>\n",
       "    </tr>\n",
       "    <tr>\n",
       "      <th>4</th>\n",
       "      <td>0</td>\n",
       "      <td>137</td>\n",
       "      <td>40</td>\n",
       "      <td>35</td>\n",
       "      <td>168</td>\n",
       "      <td>43.1</td>\n",
       "      <td>2.288</td>\n",
       "      <td>33</td>\n",
       "    </tr>\n",
       "    <tr>\n",
       "      <th>...</th>\n",
       "      <td>...</td>\n",
       "      <td>...</td>\n",
       "      <td>...</td>\n",
       "      <td>...</td>\n",
       "      <td>...</td>\n",
       "      <td>...</td>\n",
       "      <td>...</td>\n",
       "      <td>...</td>\n",
       "    </tr>\n",
       "    <tr>\n",
       "      <th>763</th>\n",
       "      <td>10</td>\n",
       "      <td>101</td>\n",
       "      <td>76</td>\n",
       "      <td>48</td>\n",
       "      <td>180</td>\n",
       "      <td>32.9</td>\n",
       "      <td>0.171</td>\n",
       "      <td>63</td>\n",
       "    </tr>\n",
       "    <tr>\n",
       "      <th>764</th>\n",
       "      <td>2</td>\n",
       "      <td>122</td>\n",
       "      <td>70</td>\n",
       "      <td>27</td>\n",
       "      <td>0</td>\n",
       "      <td>36.8</td>\n",
       "      <td>0.340</td>\n",
       "      <td>27</td>\n",
       "    </tr>\n",
       "    <tr>\n",
       "      <th>765</th>\n",
       "      <td>5</td>\n",
       "      <td>121</td>\n",
       "      <td>72</td>\n",
       "      <td>23</td>\n",
       "      <td>112</td>\n",
       "      <td>26.2</td>\n",
       "      <td>0.245</td>\n",
       "      <td>30</td>\n",
       "    </tr>\n",
       "    <tr>\n",
       "      <th>766</th>\n",
       "      <td>1</td>\n",
       "      <td>126</td>\n",
       "      <td>60</td>\n",
       "      <td>0</td>\n",
       "      <td>0</td>\n",
       "      <td>30.1</td>\n",
       "      <td>0.349</td>\n",
       "      <td>47</td>\n",
       "    </tr>\n",
       "    <tr>\n",
       "      <th>767</th>\n",
       "      <td>1</td>\n",
       "      <td>93</td>\n",
       "      <td>70</td>\n",
       "      <td>31</td>\n",
       "      <td>0</td>\n",
       "      <td>30.4</td>\n",
       "      <td>0.315</td>\n",
       "      <td>23</td>\n",
       "    </tr>\n",
       "  </tbody>\n",
       "</table>\n",
       "<p>768 rows × 8 columns</p>\n",
       "</div>"
      ],
      "text/plain": [
       "     Pregnancies  Glucose  BloodPressure  SkinThickness  Insulin   BMI  \\\n",
       "0              6      148             72             35        0  33.6   \n",
       "1              1       85             66             29        0  26.6   \n",
       "2              8      183             64              0        0  23.3   \n",
       "3              1       89             66             23       94  28.1   \n",
       "4              0      137             40             35      168  43.1   \n",
       "..           ...      ...            ...            ...      ...   ...   \n",
       "763           10      101             76             48      180  32.9   \n",
       "764            2      122             70             27        0  36.8   \n",
       "765            5      121             72             23      112  26.2   \n",
       "766            1      126             60              0        0  30.1   \n",
       "767            1       93             70             31        0  30.4   \n",
       "\n",
       "     DiabetesPedigreeFunction  Age  \n",
       "0                       0.627   50  \n",
       "1                       0.351   31  \n",
       "2                       0.672   32  \n",
       "3                       0.167   21  \n",
       "4                       2.288   33  \n",
       "..                        ...  ...  \n",
       "763                     0.171   63  \n",
       "764                     0.340   27  \n",
       "765                     0.245   30  \n",
       "766                     0.349   47  \n",
       "767                     0.315   23  \n",
       "\n",
       "[768 rows x 8 columns]"
      ]
     },
     "execution_count": 95,
     "metadata": {},
     "output_type": "execute_result"
    }
   ],
   "source": [
    "x"
   ]
  },
  {
   "cell_type": "code",
   "execution_count": 96,
   "id": "4a02fae1-1276-4fa7-b098-f894aa748c0f",
   "metadata": {},
   "outputs": [
    {
     "data": {
      "text/plain": [
       "0      1\n",
       "1      0\n",
       "2      1\n",
       "3      0\n",
       "4      1\n",
       "      ..\n",
       "763    0\n",
       "764    0\n",
       "765    0\n",
       "766    1\n",
       "767    0\n",
       "Name: Outcome, Length: 768, dtype: int64"
      ]
     },
     "execution_count": 96,
     "metadata": {},
     "output_type": "execute_result"
    }
   ],
   "source": [
    "y"
   ]
  },
  {
   "cell_type": "code",
   "execution_count": 99,
   "id": "ae03dd1a-9b67-4bf9-b4eb-aa22b1bcc7da",
   "metadata": {},
   "outputs": [
    {
     "name": "stdout",
     "output_type": "stream",
     "text": [
      "Accuracy: 0.7467532467532467\n",
      "Classification Report:\n",
      "               precision    recall  f1-score   support\n",
      "\n",
      "           0       0.81      0.79      0.80        99\n",
      "           1       0.64      0.67      0.65        55\n",
      "\n",
      "    accuracy                           0.75       154\n",
      "   macro avg       0.73      0.73      0.73       154\n",
      "weighted avg       0.75      0.75      0.75       154\n",
      "\n"
     ]
    }
   ],
   "source": [
    "import pandas as pd\n",
    "from sklearn.model_selection import train_test_split\n",
    "from sklearn.linear_model import LogisticRegression\n",
    "from sklearn.metrics import accuracy_score, classification_report\n",
    "\n",
    "# Load data\n",
    "#data = pd.read_csv(\"../artifacts/diabetes.csv\")\n",
    "\n",
    "# Features and target (NOTE double brackets and correct column name)\n",
    "x = data[['Pregnancies', 'Glucose', 'BloodPressure', 'SkinThickness',\n",
    "          'Insulin', 'BMI', 'DiabetesPedigreeFunction', 'Age']]\n",
    "y = data['Outcome']\n",
    "\n",
    "# Train-test split\n",
    "x_train, x_test, y_train, y_test = train_test_split(x, y, test_size=0.2, random_state=42)\n",
    "\n",
    "# Train the model\n",
    "model = LogisticRegression(max_iter=1000)\n",
    "model.fit(x_train, y_train)\n",
    "\n",
    "# Test and evaluate\n",
    "y_pred = model.predict(x_test)\n",
    "print(\"Accuracy:\", accuracy_score(y_test, y_pred))\n",
    "print(\"Classification Report:\\n\", classification_report(y_test, y_pred))\n"
   ]
  },
  {
   "cell_type": "code",
   "execution_count": 100,
   "id": "6b44333d-3706-43dd-bd09-57157b2eb829",
   "metadata": {},
   "outputs": [
    {
     "data": {
      "text/plain": [
       "(614, 8)"
      ]
     },
     "execution_count": 100,
     "metadata": {},
     "output_type": "execute_result"
    }
   ],
   "source": [
    "x_train.shape"
   ]
  },
  {
   "cell_type": "code",
   "execution_count": 101,
   "id": "29151be6-008a-45bd-a35d-e83fe5b279e9",
   "metadata": {},
   "outputs": [
    {
     "data": {
      "text/plain": [
       "(154, 8)"
      ]
     },
     "execution_count": 101,
     "metadata": {},
     "output_type": "execute_result"
    }
   ],
   "source": [
    "x_test.shape"
   ]
  },
  {
   "cell_type": "code",
   "execution_count": 102,
   "id": "440bb1f1-0745-4988-9930-53f348997b32",
   "metadata": {},
   "outputs": [
    {
     "data": {
      "text/plain": [
       "(614,)"
      ]
     },
     "execution_count": 102,
     "metadata": {},
     "output_type": "execute_result"
    }
   ],
   "source": [
    "y_train.shape"
   ]
  },
  {
   "cell_type": "code",
   "execution_count": 103,
   "id": "ac0a457b-9bb1-42f3-be8d-a54b48c8f5ff",
   "metadata": {},
   "outputs": [
    {
     "data": {
      "text/plain": [
       "(154,)"
      ]
     },
     "execution_count": 103,
     "metadata": {},
     "output_type": "execute_result"
    }
   ],
   "source": [
    "y_test.shape"
   ]
  },
  {
   "cell_type": "code",
   "execution_count": 107,
   "id": "0a19b08c-e584-454d-b3ac-524cd81deaf3",
   "metadata": {},
   "outputs": [
    {
     "data": {
      "text/html": [
       "<div>\n",
       "<style scoped>\n",
       "    .dataframe tbody tr th:only-of-type {\n",
       "        vertical-align: middle;\n",
       "    }\n",
       "\n",
       "    .dataframe tbody tr th {\n",
       "        vertical-align: top;\n",
       "    }\n",
       "\n",
       "    .dataframe thead th {\n",
       "        text-align: right;\n",
       "    }\n",
       "</style>\n",
       "<table border=\"1\" class=\"dataframe\">\n",
       "  <thead>\n",
       "    <tr style=\"text-align: right;\">\n",
       "      <th></th>\n",
       "      <th>Pregnancies</th>\n",
       "      <th>Glucose</th>\n",
       "      <th>BloodPressure</th>\n",
       "      <th>SkinThickness</th>\n",
       "      <th>Insulin</th>\n",
       "      <th>BMI</th>\n",
       "      <th>DiabetesPedigreeFunction</th>\n",
       "      <th>Age</th>\n",
       "    </tr>\n",
       "  </thead>\n",
       "  <tbody>\n",
       "    <tr>\n",
       "      <th>668</th>\n",
       "      <td>6</td>\n",
       "      <td>98</td>\n",
       "      <td>58</td>\n",
       "      <td>33</td>\n",
       "      <td>190</td>\n",
       "      <td>34.0</td>\n",
       "      <td>0.430</td>\n",
       "      <td>43</td>\n",
       "    </tr>\n",
       "    <tr>\n",
       "      <th>324</th>\n",
       "      <td>2</td>\n",
       "      <td>112</td>\n",
       "      <td>75</td>\n",
       "      <td>32</td>\n",
       "      <td>0</td>\n",
       "      <td>35.7</td>\n",
       "      <td>0.148</td>\n",
       "      <td>21</td>\n",
       "    </tr>\n",
       "    <tr>\n",
       "      <th>624</th>\n",
       "      <td>2</td>\n",
       "      <td>108</td>\n",
       "      <td>64</td>\n",
       "      <td>0</td>\n",
       "      <td>0</td>\n",
       "      <td>30.8</td>\n",
       "      <td>0.158</td>\n",
       "      <td>21</td>\n",
       "    </tr>\n",
       "    <tr>\n",
       "      <th>690</th>\n",
       "      <td>8</td>\n",
       "      <td>107</td>\n",
       "      <td>80</td>\n",
       "      <td>0</td>\n",
       "      <td>0</td>\n",
       "      <td>24.6</td>\n",
       "      <td>0.856</td>\n",
       "      <td>34</td>\n",
       "    </tr>\n",
       "    <tr>\n",
       "      <th>473</th>\n",
       "      <td>7</td>\n",
       "      <td>136</td>\n",
       "      <td>90</td>\n",
       "      <td>0</td>\n",
       "      <td>0</td>\n",
       "      <td>29.9</td>\n",
       "      <td>0.210</td>\n",
       "      <td>50</td>\n",
       "    </tr>\n",
       "    <tr>\n",
       "      <th>...</th>\n",
       "      <td>...</td>\n",
       "      <td>...</td>\n",
       "      <td>...</td>\n",
       "      <td>...</td>\n",
       "      <td>...</td>\n",
       "      <td>...</td>\n",
       "      <td>...</td>\n",
       "      <td>...</td>\n",
       "    </tr>\n",
       "    <tr>\n",
       "      <th>355</th>\n",
       "      <td>9</td>\n",
       "      <td>165</td>\n",
       "      <td>88</td>\n",
       "      <td>0</td>\n",
       "      <td>0</td>\n",
       "      <td>30.4</td>\n",
       "      <td>0.302</td>\n",
       "      <td>49</td>\n",
       "    </tr>\n",
       "    <tr>\n",
       "      <th>534</th>\n",
       "      <td>1</td>\n",
       "      <td>77</td>\n",
       "      <td>56</td>\n",
       "      <td>30</td>\n",
       "      <td>56</td>\n",
       "      <td>33.3</td>\n",
       "      <td>1.251</td>\n",
       "      <td>24</td>\n",
       "    </tr>\n",
       "    <tr>\n",
       "      <th>344</th>\n",
       "      <td>8</td>\n",
       "      <td>95</td>\n",
       "      <td>72</td>\n",
       "      <td>0</td>\n",
       "      <td>0</td>\n",
       "      <td>36.8</td>\n",
       "      <td>0.485</td>\n",
       "      <td>57</td>\n",
       "    </tr>\n",
       "    <tr>\n",
       "      <th>296</th>\n",
       "      <td>2</td>\n",
       "      <td>146</td>\n",
       "      <td>70</td>\n",
       "      <td>38</td>\n",
       "      <td>360</td>\n",
       "      <td>28.0</td>\n",
       "      <td>0.337</td>\n",
       "      <td>29</td>\n",
       "    </tr>\n",
       "    <tr>\n",
       "      <th>462</th>\n",
       "      <td>8</td>\n",
       "      <td>74</td>\n",
       "      <td>70</td>\n",
       "      <td>40</td>\n",
       "      <td>49</td>\n",
       "      <td>35.3</td>\n",
       "      <td>0.705</td>\n",
       "      <td>39</td>\n",
       "    </tr>\n",
       "  </tbody>\n",
       "</table>\n",
       "<p>154 rows × 8 columns</p>\n",
       "</div>"
      ],
      "text/plain": [
       "     Pregnancies  Glucose  BloodPressure  SkinThickness  Insulin   BMI  \\\n",
       "668            6       98             58             33      190  34.0   \n",
       "324            2      112             75             32        0  35.7   \n",
       "624            2      108             64              0        0  30.8   \n",
       "690            8      107             80              0        0  24.6   \n",
       "473            7      136             90              0        0  29.9   \n",
       "..           ...      ...            ...            ...      ...   ...   \n",
       "355            9      165             88              0        0  30.4   \n",
       "534            1       77             56             30       56  33.3   \n",
       "344            8       95             72              0        0  36.8   \n",
       "296            2      146             70             38      360  28.0   \n",
       "462            8       74             70             40       49  35.3   \n",
       "\n",
       "     DiabetesPedigreeFunction  Age  \n",
       "668                     0.430   43  \n",
       "324                     0.148   21  \n",
       "624                     0.158   21  \n",
       "690                     0.856   34  \n",
       "473                     0.210   50  \n",
       "..                        ...  ...  \n",
       "355                     0.302   49  \n",
       "534                     1.251   24  \n",
       "344                     0.485   57  \n",
       "296                     0.337   29  \n",
       "462                     0.705   39  \n",
       "\n",
       "[154 rows x 8 columns]"
      ]
     },
     "execution_count": 107,
     "metadata": {},
     "output_type": "execute_result"
    }
   ],
   "source": [
    "x_test"
   ]
  },
  {
   "cell_type": "markdown",
   "id": "07f36288-53c3-4598-8650-d72e89395412",
   "metadata": {},
   "source": [
    "## Vectorization"
   ]
  },
  {
   "cell_type": "code",
   "execution_count": 108,
   "id": "3ac03d83-eeb0-4c27-b0bc-5860289a3fb9",
   "metadata": {},
   "outputs": [],
   "source": [
    "import numpy as np\n",
    "\n",
    "def vectorizer(ds, vocabulary):\n",
    "    vectorized_lst = []\n",
    "\n",
    "    for sentence in ds:\n",
    "        sentence_lst = np.zeros(len(vocabulary))\n",
    "\n",
    "        for i in range(len(vocabulary)):\n",
    "            if vocabulary[i] in sentence.split():\n",
    "                sentence_lst[i] = 1\n",
    "\n",
    "        vectorized_lst.append(sentence_lst)\n",
    "\n",
    "    vectorized_lst_new = np.array(vectorized_lst, dtype=np.float32)\n",
    "    return vectorized_lst_new\n"
   ]
  },
  {
   "cell_type": "code",
   "execution_count": 109,
   "id": "337aea8c-1e6b-4940-95d6-6604813cf465",
   "metadata": {},
   "outputs": [
    {
     "name": "stdout",
     "output_type": "stream",
     "text": [
      "[[1. 0. 0. 0.]\n",
      " [0. 1. 0. 0.]]\n"
     ]
    }
   ],
   "source": [
    "ds = [\"high glucose level\", \"normal BMI\"]\n",
    "vocabulary = [\"glucose\", \"BMI\", \"insulin\", \"pressure\"]\n",
    "\n",
    "X = vectorizer(ds, vocabulary)\n",
    "print(X)"
   ]
  },
  {
   "cell_type": "code",
   "execution_count": 110,
   "id": "57bf86f8-21cd-4ba4-afde-1270fdb791ae",
   "metadata": {},
   "outputs": [
    {
     "name": "stdout",
     "output_type": "stream",
     "text": [
      "Train shape: (614, 1031)\n",
      "Test shape: (154, 1031)\n"
     ]
    }
   ],
   "source": [
    "import pandas as pd\n",
    "import numpy as np\n",
    "from sklearn.model_selection import train_test_split\n",
    "\n",
    "# Load dataset\n",
    "#df = pd.read_csv(\"diabetes.csv\")\n",
    "\n",
    "# Define features and labels\n",
    "x = df[['Pregnancies', 'Glucose', 'BloodPressure', 'SkinThickness',\n",
    "        'Insulin', 'BMI', 'DiabetesPedigreeFunction', 'Age']]\n",
    "y = df['Outcome']\n",
    "\n",
    "# Convert each row to a space-separated string (simulate sentence for vectorizer)\n",
    "x_sentences = x.astype(str).agg(' '.join, axis=1)\n",
    "\n",
    "# Generate vocabulary from training set (all unique values)\n",
    "from collections import Counter\n",
    "tokens = list(map(str, Counter(' '.join(x_sentences).split()).keys()))\n",
    "\n",
    "# Split into train/test\n",
    "x_train_sent, x_test_sent, y_train, y_test = train_test_split(x_sentences, y, test_size=0.2, random_state=42)\n",
    "\n",
    "# Vectorizer function (binary Bag of Words)\n",
    "def vectorizer(ds, vocabulary):\n",
    "    vectorized_lst = []\n",
    "    for sentence in ds:\n",
    "        sentence_lst = np.zeros(len(vocabulary))\n",
    "        for i in range(len(vocabulary)):\n",
    "            if vocabulary[i] in sentence.split():\n",
    "                sentence_lst[i] = 1\n",
    "        vectorized_lst.append(sentence_lst)\n",
    "    return np.array(vectorized_lst, dtype=np.float32)\n",
    "\n",
    "# Vectorize train and test data\n",
    "vectorized_x_train = vectorizer(x_train_sent, tokens)\n",
    "vectorized_x_test = vectorizer(x_test_sent, tokens)\n",
    "\n",
    "print(\"Train shape:\", vectorized_x_train.shape)\n",
    "print(\"Test shape:\", vectorized_x_test.shape)\n"
   ]
  },
  {
   "cell_type": "code",
   "execution_count": 111,
   "id": "5f3f728f-7902-4dc9-b8bb-7a4434a464b5",
   "metadata": {},
   "outputs": [
    {
     "data": {
      "text/plain": [
       "array([[0., 0., 0., ..., 0., 0., 0.],\n",
       "       [0., 0., 0., ..., 0., 0., 0.],\n",
       "       [0., 0., 0., ..., 0., 0., 0.],\n",
       "       ...,\n",
       "       [0., 0., 0., ..., 0., 0., 0.],\n",
       "       [0., 0., 0., ..., 0., 0., 0.],\n",
       "       [0., 0., 0., ..., 0., 0., 0.]], shape=(614, 1031), dtype=float32)"
      ]
     },
     "execution_count": 111,
     "metadata": {},
     "output_type": "execute_result"
    }
   ],
   "source": [
    "vectorized_x_train"
   ]
  },
  {
   "cell_type": "code",
   "execution_count": 112,
   "id": "ef3abcd6-d471-4d9a-b342-5ac5a4cbc73d",
   "metadata": {},
   "outputs": [
    {
     "data": {
      "text/plain": [
       "array([[1., 0., 0., ..., 0., 0., 0.],\n",
       "       [0., 0., 0., ..., 0., 0., 0.],\n",
       "       [0., 0., 0., ..., 0., 0., 0.],\n",
       "       ...,\n",
       "       [0., 0., 1., ..., 0., 0., 0.],\n",
       "       [0., 0., 0., ..., 0., 0., 0.],\n",
       "       [0., 0., 0., ..., 0., 0., 0.]], shape=(154, 1031), dtype=float32)"
      ]
     },
     "execution_count": 112,
     "metadata": {},
     "output_type": "execute_result"
    }
   ],
   "source": [
    "vectorized_x_test"
   ]
  },
  {
   "cell_type": "code",
   "execution_count": 113,
   "id": "d50cb142-103b-4130-9f24-56b069fb5e36",
   "metadata": {},
   "outputs": [
    {
     "data": {
      "text/plain": [
       "Outcome\n",
       "0    401\n",
       "1    213\n",
       "Name: count, dtype: int64"
      ]
     },
     "execution_count": 113,
     "metadata": {},
     "output_type": "execute_result"
    }
   ],
   "source": [
    "y_train.value_counts()"
   ]
  },
  {
   "cell_type": "code",
   "execution_count": 114,
   "id": "ee1ff7c9-5f71-46e6-9d6b-b0d79f8daa9f",
   "metadata": {},
   "outputs": [
    {
     "data": {
      "image/png": "[encoded data removed]",
      "text/plain": [
       "<Figure size 640x480 with 1 Axes>"
      ]
     },
     "metadata": {},
     "output_type": "display_data"
    }
   ],
   "source": [
    "# Get class counts\n",
    "class_counts = y_train.value_counts()\n",
    "\n",
    "# Prepare data and labels\n",
    "sizes = np.array([class_counts[0], class_counts[1]])\n",
    "labels = ['Negative (0)', 'Positive (1)']\n",
    "\n",
    "# Plot pie chart\n",
    "plt.pie(sizes, labels=labels, autopct='%1.1f%%', startangle=90)\n",
    "plt.title(\"Distribution of Diabetes in Training Data\")\n",
    "plt.axis('equal')  # Equal aspect ratio makes the pie a circle\n",
    "plt.show()"
   ]
  },
  {
   "cell_type": "markdown",
   "id": "1465aa32-6b05-40eb-a1cc-91acdaeef4eb",
   "metadata": {},
   "source": [
    "## Handle imbalanced dataset"
   ]
  },
  {
   "cell_type": "code",
   "execution_count": 118,
   "id": "7f10da8f-b782-4a11-b534-cac36e995b11",
   "metadata": {},
   "outputs": [
    {
     "name": "stdout",
     "output_type": "stream",
     "text": [
      "Requirement already satisfied: imbalanced-learn in c:\\users\\hp\\desktop\\patient_monitoring_pro\\env\\lib\\site-packages (0.13.0)\n",
      "Requirement already satisfied: numpy<3,>=1.24.3 in c:\\users\\hp\\desktop\\patient_monitoring_pro\\env\\lib\\site-packages (from imbalanced-learn) (2.2.6)\n",
      "Requirement already satisfied: scipy<2,>=1.10.1 in c:\\users\\hp\\desktop\\patient_monitoring_pro\\env\\lib\\site-packages (from imbalanced-learn) (1.15.3)\n",
      "Requirement already satisfied: scikit-learn<2,>=1.3.2 in c:\\users\\hp\\desktop\\patient_monitoring_pro\\env\\lib\\site-packages (from imbalanced-learn) (1.6.1)\n",
      "Requirement already satisfied: sklearn-compat<1,>=0.1 in c:\\users\\hp\\desktop\\patient_monitoring_pro\\env\\lib\\site-packages (from imbalanced-learn) (0.1.3)\n",
      "Requirement already satisfied: joblib<2,>=1.1.1 in c:\\users\\hp\\desktop\\patient_monitoring_pro\\env\\lib\\site-packages (from imbalanced-learn) (1.5.0)\n",
      "Requirement already satisfied: threadpoolctl<4,>=2.0.0 in c:\\users\\hp\\desktop\\patient_monitoring_pro\\env\\lib\\site-packages (from imbalanced-learn) (3.6.0)\n"
     ]
    }
   ],
   "source": [
    "!pip install imbalanced-learn"
   ]
  },
  {
   "cell_type": "code",
   "execution_count": 119,
   "id": "e5dfb10c-59f0-4f37-8e0f-a5919abfe87e",
   "metadata": {},
   "outputs": [
    {
     "name": "stdout",
     "output_type": "stream",
     "text": [
      "After SMOTE:\n",
      "X shape: (802, 1031)\n",
      "y shape: (802,)\n"
     ]
    }
   ],
   "source": [
    "from imblearn.over_sampling import SMOTE\n",
    "\n",
    "# Create SMOTE object\n",
    "smote = SMOTE(random_state=42)\n",
    "\n",
    "# Apply SMOTE to training data\n",
    "vectorized_x_train_smote, y_train_smote = smote.fit_resample(vectorized_x_train, y_train)\n",
    "\n",
    "# Print new shape after balancing\n",
    "print(\"After SMOTE:\")\n",
    "print(\"X shape:\", vectorized_x_train_smote.shape)\n",
    "print(\"y shape:\", y_train_smote.shape)"
   ]
  },
  {
   "cell_type": "code",
   "execution_count": 121,
   "id": "60136075-a776-4c3a-8092-9b5d3d7d0054",
   "metadata": {},
   "outputs": [
    {
     "data": {
      "text/plain": [
       "Outcome\n",
       "0    401\n",
       "1    401\n",
       "Name: count, dtype: int64"
      ]
     },
     "execution_count": 121,
     "metadata": {},
     "output_type": "execute_result"
    }
   ],
   "source": [
    "y_train_smote.value_counts()"
   ]
  },
  {
   "cell_type": "code",
   "execution_count": 123,
   "id": "b49c80b5-39ed-4724-bf1c-d5fc4a2aea9d",
   "metadata": {},
   "outputs": [
    {
     "data": {
      "image/png": "[encoded data removed]",
      "text/plain": [
       "<Figure size 640x480 with 1 Axes>"
      ]
     },
     "metadata": {},
     "output_type": "display_data"
    }
   ],
   "source": [
    "# Get class counts\n",
    "class_counts = y_train_smote.value_counts()\n",
    "\n",
    "# Prepare data and labels\n",
    "sizes = np.array([class_counts[0], class_counts[1]])\n",
    "labels = ['Negative (0)', 'Positive (1)']\n",
    "\n",
    "# Plot pie chart\n",
    "plt.pie(sizes, labels=labels, autopct='%1.1f%%', startangle=90)\n",
    "plt.title(\"Distribution of Diabetes in Training Data\")\n",
    "plt.axis('equal')  # Equal aspect ratio makes the pie a circle\n",
    "plt.show()"
   ]
  },
  {
   "cell_type": "markdown",
   "id": "11425500-1eff-4185-853e-a87db051fad0",
   "metadata": {},
   "source": [
    "## Model Training and Evaluations"
   ]
  },
  {
   "cell_type": "code",
   "execution_count": 124,
   "id": "59e4caa0-e087-44e6-aeda-5bd967a36042",
   "metadata": {},
   "outputs": [],
   "source": [
    "from sklearn.linear_model import LogisticRegression\n",
    "from sklearn.naive_bayes import MultinomialNB\n",
    "from sklearn.tree import DecisionTreeClassifier\n",
    "from sklearn.ensemble import RandomForestClassifier\n",
    "from sklearn.svm import SVC"
   ]
  },
  {
   "cell_type": "code",
   "execution_count": 125,
   "id": "54ff4265-2cd0-4056-b954-6e64fdfb47c4",
   "metadata": {},
   "outputs": [],
   "source": [
    "from sklearn.metrics import accuracy_score, f1_score, precision_score, recall_score\n",
    "\n",
    "def training_scores(y_act, y_pred):\n",
    "    acc = round(accuracy_score(y_act, y_pred), 3)\n",
    "    pr = round(precision_score(y_act, y_pred), 3)\n",
    "    rec = round(recall_score(y_act, y_pred), 3)\n",
    "    f1 = round(f1_score(y_act, y_pred), 3)\n",
    "    print(f\"Training Scores:\\n\\tAccuracy = {acc}\\n\\tPrecision = {pr}\\n\\tRecall = {rec}\\n\\tF1 Score = {f1}\")\n",
    "\n",
    "def validation_scores(y_act, y_pred):\n",
    "    acc = round(accuracy_score(y_act, y_pred), 3)\n",
    "    pr = round(precision_score(y_act, y_pred), 3)\n",
    "    rec = round(recall_score(y_act, y_pred), 3)\n",
    "    f1 = round(f1_score(y_act, y_pred), 3)\n",
    "    print(f\"Testing Scores:\\n\\tAccuracy = {acc}\\n\\tPrecision = {pr}\\n\\tRecall = {rec}\\n\\tF1 Score = {f1}\")\n"
   ]
  },
  {
   "cell_type": "markdown",
   "id": "2be5c6c3-59e4-43d5-a192-b65332f9994e",
   "metadata": {},
   "source": [
    "## Logistic Regression"
   ]
  },
  {
   "cell_type": "code",
   "execution_count": 127,
   "id": "fcdf39eb-f875-47b6-8efa-4b1ba0fe8f68",
   "metadata": {},
   "outputs": [
    {
     "data": {
      "text/html": [
       "<style>#sk-container-id-1 {\n",
       "  /* Definition of color scheme common for light and dark mode */\n",
       "  --sklearn-color-text: #000;\n",
       "  --sklearn-color-text-muted: #666;\n",
       "  --sklearn-color-line: gray;\n",
       "  /* Definition of color scheme for unfitted estimators */\n",
       "  --sklearn-color-unfitted-level-0: #fff5e6;\n",
       "  --sklearn-color-unfitted-level-1: #f6e4d2;\n",
       "  --sklearn-color-unfitted-level-2: #ffe0b3;\n",
       "  --sklearn-color-unfitted-level-3: chocolate;\n",
       "  /* Definition of color scheme for fitted estimators */\n",
       "  --sklearn-color-fitted-level-0: #f0f8ff;\n",
       "  --sklearn-color-fitted-level-1: #d4ebff;\n",
       "  --sklearn-color-fitted-level-2: #b3dbfd;\n",
       "  --sklearn-color-fitted-level-3: cornflowerblue;\n",
       "\n",
       "  /* Specific color for light theme */\n",
       "  --sklearn-color-text-on-default-background: var(--sg-text-color, var(--theme-code-foreground, var(--jp-content-font-color1, black)));\n",
       "  --sklearn-color-background: var(--sg-background-color, var(--theme-background, var(--jp-layout-color0, white)));\n",
       "  --sklearn-color-border-box: var(--sg-text-color, var(--theme-code-foreground, var(--jp-content-font-color1, black)));\n",
       "  --sklearn-color-icon: #696969;\n",
       "\n",
       "  @media (prefers-color-scheme: dark) {\n",
       "    /* Redefinition of color scheme for dark theme */\n",
       "    --sklearn-color-text-on-default-background: var(--sg-text-color, var(--theme-code-foreground, var(--jp-content-font-color1, white)));\n",
       "    --sklearn-color-background: var(--sg-background-color, var(--theme-background, var(--jp-layout-color0, #111)));\n",
       "    --sklearn-color-border-box: var(--sg-text-color, var(--theme-code-foreground, var(--jp-content-font-color1, white)));\n",
       "    --sklearn-color-icon: #878787;\n",
       "  }\n",
       "}\n",
       "\n",
       "#sk-container-id-1 {\n",
       "  color: var(--sklearn-color-text);\n",
       "}\n",
       "\n",
       "#sk-container-id-1 pre {\n",
       "  padding: 0;\n",
       "}\n",
       "\n",
       "#sk-container-id-1 input.sk-hidden--visually {\n",
       "  border: 0;\n",
       "  clip: rect(1px 1px 1px 1px);\n",
       "  clip: rect(1px, 1px, 1px, 1px);\n",
       "  height: 1px;\n",
       "  margin: -1px;\n",
       "  overflow: hidden;\n",
       "  padding: 0;\n",
       "  position: absolute;\n",
       "  width: 1px;\n",
       "}\n",
       "\n",
       "#sk-container-id-1 div.sk-dashed-wrapped {\n",
       "  border: 1px dashed var(--sklearn-color-line);\n",
       "  margin: 0 0.4em 0.5em 0.4em;\n",
       "  box-sizing: border-box;\n",
       "  padding-bottom: 0.4em;\n",
       "  background-color: var(--sklearn-color-background);\n",
       "}\n",
       "\n",
       "#sk-container-id-1 div.sk-container {\n",
       "  /* jupyter's `normalize.less` sets `[hidden] { display: none; }`\n",
       "     but bootstrap.min.css set `[hidden] { display: none !important; }`\n",
       "     so we also need the `!important` here to be able to override the\n",
       "     default hidden behavior on the sphinx rendered scikit-learn.org.\n",
       "     See: https://github.com/scikit-learn/scikit-learn/issues/21755 */\n",
       "  display: inline-block !important;\n",
       "  position: relative;\n",
       "}\n",
       "\n",
       "#sk-container-id-1 div.sk-text-repr-fallback {\n",
       "  display: none;\n",
       "}\n",
       "\n",
       "div.sk-parallel-item,\n",
       "div.sk-serial,\n",
       "div.sk-item {\n",
       "  /* draw centered vertical line to link estimators */\n",
       "  background-image: linear-gradient(var(--sklearn-color-text-on-default-background), var(--sklearn-color-text-on-default-background));\n",
       "  background-size: 2px 100%;\n",
       "  background-repeat: no-repeat;\n",
       "  background-position: center center;\n",
       "}\n",
       "\n",
       "/* Parallel-specific style estimator block */\n",
       "\n",
       "#sk-container-id-1 div.sk-parallel-item::after {\n",
       "  content: \"\";\n",
       "  width: 100%;\n",
       "  border-bottom: 2px solid var(--sklearn-color-text-on-default-background);\n",
       "  flex-grow: 1;\n",
       "}\n",
       "\n",
       "#sk-container-id-1 div.sk-parallel {\n",
       "  display: flex;\n",
       "  align-items: stretch;\n",
       "  justify-content: center;\n",
       "  background-color: var(--sklearn-color-background);\n",
       "  position: relative;\n",
       "}\n",
       "\n",
       "#sk-container-id-1 div.sk-parallel-item {\n",
       "  display: flex;\n",
       "  flex-direction: column;\n",
       "}\n",
       "\n",
       "#sk-container-id-1 div.sk-parallel-item:first-child::after {\n",
       "  align-self: flex-end;\n",
       "  width: 50%;\n",
       "}\n",
       "\n",
       "#sk-container-id-1 div.sk-parallel-item:last-child::after {\n",
       "  align-self: flex-start;\n",
       "  width: 50%;\n",
       "}\n",
       "\n",
       "#sk-container-id-1 div.sk-parallel-item:only-child::after {\n",
       "  width: 0;\n",
       "}\n",
       "\n",
       "/* Serial-specific style estimator block */\n",
       "\n",
       "#sk-container-id-1 div.sk-serial {\n",
       "  display: flex;\n",
       "  flex-direction: column;\n",
       "  align-items: center;\n",
       "  background-color: var(--sklearn-color-background);\n",
       "  padding-right: 1em;\n",
       "  padding-left: 1em;\n",
       "}\n",
       "\n",
       "\n",
       "/* Toggleable style: style used for estimator/Pipeline/ColumnTransformer box that is\n",
       "clickable and can be expanded/collapsed.\n",
       "- Pipeline and ColumnTransformer use this feature and define the default style\n",
       "- Estimators will overwrite some part of the style using the `sk-estimator` class\n",
       "*/\n",
       "\n",
       "/* Pipeline and ColumnTransformer style (default) */\n",
       "\n",
       "#sk-container-id-1 div.sk-toggleable {\n",
       "  /* Default theme specific background. It is overwritten whether we have a\n",
       "  specific estimator or a Pipeline/ColumnTransformer */\n",
       "  background-color: var(--sklearn-color-background);\n",
       "}\n",
       "\n",
       "/* Toggleable label */\n",
       "#sk-container-id-1 label.sk-toggleable__label {\n",
       "  cursor: pointer;\n",
       "  display: flex;\n",
       "  width: 100%;\n",
       "  margin-bottom: 0;\n",
       "  padding: 0.5em;\n",
       "  box-sizing: border-box;\n",
       "  text-align: center;\n",
       "  align-items: start;\n",
       "  justify-content: space-between;\n",
       "  gap: 0.5em;\n",
       "}\n",
       "\n",
       "#sk-container-id-1 label.sk-toggleable__label .caption {\n",
       "  font-size: 0.6rem;\n",
       "  font-weight: lighter;\n",
       "  color: var(--sklearn-color-text-muted);\n",
       "}\n",
       "\n",
       "#sk-container-id-1 label.sk-toggleable__label-arrow:before {\n",
       "  /* Arrow on the left of the label */\n",
       "  content: \"▸\";\n",
       "  float: left;\n",
       "  margin-right: 0.25em;\n",
       "  color: var(--sklearn-color-icon);\n",
       "}\n",
       "\n",
       "#sk-container-id-1 label.sk-toggleable__label-arrow:hover:before {\n",
       "  color: var(--sklearn-color-text);\n",
       "}\n",
       "\n",
       "/* Toggleable content - dropdown */\n",
       "\n",
       "#sk-container-id-1 div.sk-toggleable__content {\n",
       "  max-height: 0;\n",
       "  max-width: 0;\n",
       "  overflow: hidden;\n",
       "  text-align: left;\n",
       "  /* unfitted */\n",
       "  background-color: var(--sklearn-color-unfitted-level-0);\n",
       "}\n",
       "\n",
       "#sk-container-id-1 div.sk-toggleable__content.fitted {\n",
       "  /* fitted */\n",
       "  background-color: var(--sklearn-color-fitted-level-0);\n",
       "}\n",
       "\n",
       "#sk-container-id-1 div.sk-toggleable__content pre {\n",
       "  margin: 0.2em;\n",
       "  border-radius: 0.25em;\n",
       "  color: var(--sklearn-color-text);\n",
       "  /* unfitted */\n",
       "  background-color: var(--sklearn-color-unfitted-level-0);\n",
       "}\n",
       "\n",
       "#sk-container-id-1 div.sk-toggleable__content.fitted pre {\n",
       "  /* unfitted */\n",
       "  background-color: var(--sklearn-color-fitted-level-0);\n",
       "}\n",
       "\n",
       "#sk-container-id-1 input.sk-toggleable__control:checked~div.sk-toggleable__content {\n",
       "  /* Expand drop-down */\n",
       "  max-height: 200px;\n",
       "  max-width: 100%;\n",
       "  overflow: auto;\n",
       "}\n",
       "\n",
       "#sk-container-id-1 input.sk-toggleable__control:checked~label.sk-toggleable__label-arrow:before {\n",
       "  content: \"▾\";\n",
       "}\n",
       "\n",
       "/* Pipeline/ColumnTransformer-specific style */\n",
       "\n",
       "#sk-container-id-1 div.sk-label input.sk-toggleable__control:checked~label.sk-toggleable__label {\n",
       "  color: var(--sklearn-color-text);\n",
       "  background-color: var(--sklearn-color-unfitted-level-2);\n",
       "}\n",
       "\n",
       "#sk-container-id-1 div.sk-label.fitted input.sk-toggleable__control:checked~label.sk-toggleable__label {\n",
       "  background-color: var(--sklearn-color-fitted-level-2);\n",
       "}\n",
       "\n",
       "/* Estimator-specific style */\n",
       "\n",
       "/* Colorize estimator box */\n",
       "#sk-container-id-1 div.sk-estimator input.sk-toggleable__control:checked~label.sk-toggleable__label {\n",
       "  /* unfitted */\n",
       "  background-color: var(--sklearn-color-unfitted-level-2);\n",
       "}\n",
       "\n",
       "#sk-container-id-1 div.sk-estimator.fitted input.sk-toggleable__control:checked~label.sk-toggleable__label {\n",
       "  /* fitted */\n",
       "  background-color: var(--sklearn-color-fitted-level-2);\n",
       "}\n",
       "\n",
       "#sk-container-id-1 div.sk-label label.sk-toggleable__label,\n",
       "#sk-container-id-1 div.sk-label label {\n",
       "  /* The background is the default theme color */\n",
       "  color: var(--sklearn-color-text-on-default-background);\n",
       "}\n",
       "\n",
       "/* On hover, darken the color of the background */\n",
       "#sk-container-id-1 div.sk-label:hover label.sk-toggleable__label {\n",
       "  color: var(--sklearn-color-text);\n",
       "  background-color: var(--sklearn-color-unfitted-level-2);\n",
       "}\n",
       "\n",
       "/* Label box, darken color on hover, fitted */\n",
       "#sk-container-id-1 div.sk-label.fitted:hover label.sk-toggleable__label.fitted {\n",
       "  color: var(--sklearn-color-text);\n",
       "  background-color: var(--sklearn-color-fitted-level-2);\n",
       "}\n",
       "\n",
       "/* Estimator label */\n",
       "\n",
       "#sk-container-id-1 div.sk-label label {\n",
       "  font-family: monospace;\n",
       "  font-weight: bold;\n",
       "  display: inline-block;\n",
       "  line-height: 1.2em;\n",
       "}\n",
       "\n",
       "#sk-container-id-1 div.sk-label-container {\n",
       "  text-align: center;\n",
       "}\n",
       "\n",
       "/* Estimator-specific */\n",
       "#sk-container-id-1 div.sk-estimator {\n",
       "  font-family: monospace;\n",
       "  border: 1px dotted var(--sklearn-color-border-box);\n",
       "  border-radius: 0.25em;\n",
       "  box-sizing: border-box;\n",
       "  margin-bottom: 0.5em;\n",
       "  /* unfitted */\n",
       "  background-color: var(--sklearn-color-unfitted-level-0);\n",
       "}\n",
       "\n",
       "#sk-container-id-1 div.sk-estimator.fitted {\n",
       "  /* fitted */\n",
       "  background-color: var(--sklearn-color-fitted-level-0);\n",
       "}\n",
       "\n",
       "/* on hover */\n",
       "#sk-container-id-1 div.sk-estimator:hover {\n",
       "  /* unfitted */\n",
       "  background-color: var(--sklearn-color-unfitted-level-2);\n",
       "}\n",
       "\n",
       "#sk-container-id-1 div.sk-estimator.fitted:hover {\n",
       "  /* fitted */\n",
       "  background-color: var(--sklearn-color-fitted-level-2);\n",
       "}\n",
       "\n",
       "/* Specification for estimator info (e.g. \"i\" and \"?\") */\n",
       "\n",
       "/* Common style for \"i\" and \"?\" */\n",
       "\n",
       ".sk-estimator-doc-link,\n",
       "a:link.sk-estimator-doc-link,\n",
       "a:visited.sk-estimator-doc-link {\n",
       "  float: right;\n",
       "  font-size: smaller;\n",
       "  line-height: 1em;\n",
       "  font-family: monospace;\n",
       "  background-color: var(--sklearn-color-background);\n",
       "  border-radius: 1em;\n",
       "  height: 1em;\n",
       "  width: 1em;\n",
       "  text-decoration: none !important;\n",
       "  margin-left: 0.5em;\n",
       "  text-align: center;\n",
       "  /* unfitted */\n",
       "  border: var(--sklearn-color-unfitted-level-1) 1pt solid;\n",
       "  color: var(--sklearn-color-unfitted-level-1);\n",
       "}\n",
       "\n",
       ".sk-estimator-doc-link.fitted,\n",
       "a:link.sk-estimator-doc-link.fitted,\n",
       "a:visited.sk-estimator-doc-link.fitted {\n",
       "  /* fitted */\n",
       "  border: var(--sklearn-color-fitted-level-1) 1pt solid;\n",
       "  color: var(--sklearn-color-fitted-level-1);\n",
       "}\n",
       "\n",
       "/* On hover */\n",
       "div.sk-estimator:hover .sk-estimator-doc-link:hover,\n",
       ".sk-estimator-doc-link:hover,\n",
       "div.sk-label-container:hover .sk-estimator-doc-link:hover,\n",
       ".sk-estimator-doc-link:hover {\n",
       "  /* unfitted */\n",
       "  background-color: var(--sklearn-color-unfitted-level-3);\n",
       "  color: var(--sklearn-color-background);\n",
       "  text-decoration: none;\n",
       "}\n",
       "\n",
       "div.sk-estimator.fitted:hover .sk-estimator-doc-link.fitted:hover,\n",
       ".sk-estimator-doc-link.fitted:hover,\n",
       "div.sk-label-container:hover .sk-estimator-doc-link.fitted:hover,\n",
       ".sk-estimator-doc-link.fitted:hover {\n",
       "  /* fitted */\n",
       "  background-color: var(--sklearn-color-fitted-level-3);\n",
       "  color: var(--sklearn-color-background);\n",
       "  text-decoration: none;\n",
       "}\n",
       "\n",
       "/* Span, style for the box shown on hovering the info icon */\n",
       ".sk-estimator-doc-link span {\n",
       "  display: none;\n",
       "  z-index: 9999;\n",
       "  position: relative;\n",
       "  font-weight: normal;\n",
       "  right: .2ex;\n",
       "  padding: .5ex;\n",
       "  margin: .5ex;\n",
       "  width: min-content;\n",
       "  min-width: 20ex;\n",
       "  max-width: 50ex;\n",
       "  color: var(--sklearn-color-text);\n",
       "  box-shadow: 2pt 2pt 4pt #999;\n",
       "  /* unfitted */\n",
       "  background: var(--sklearn-color-unfitted-level-0);\n",
       "  border: .5pt solid var(--sklearn-color-unfitted-level-3);\n",
       "}\n",
       "\n",
       ".sk-estimator-doc-link.fitted span {\n",
       "  /* fitted */\n",
       "  background: var(--sklearn-color-fitted-level-0);\n",
       "  border: var(--sklearn-color-fitted-level-3);\n",
       "}\n",
       "\n",
       ".sk-estimator-doc-link:hover span {\n",
       "  display: block;\n",
       "}\n",
       "\n",
       "/* \"?\"-specific style due to the `<a>` HTML tag */\n",
       "\n",
       "#sk-container-id-1 a.estimator_doc_link {\n",
       "  float: right;\n",
       "  font-size: 1rem;\n",
       "  line-height: 1em;\n",
       "  font-family: monospace;\n",
       "  background-color: var(--sklearn-color-background);\n",
       "  border-radius: 1rem;\n",
       "  height: 1rem;\n",
       "  width: 1rem;\n",
       "  text-decoration: none;\n",
       "  /* unfitted */\n",
       "  color: var(--sklearn-color-unfitted-level-1);\n",
       "  border: var(--sklearn-color-unfitted-level-1) 1pt solid;\n",
       "}\n",
       "\n",
       "#sk-container-id-1 a.estimator_doc_link.fitted {\n",
       "  /* fitted */\n",
       "  border: var(--sklearn-color-fitted-level-1) 1pt solid;\n",
       "  color: var(--sklearn-color-fitted-level-1);\n",
       "}\n",
       "\n",
       "/* On hover */\n",
       "#sk-container-id-1 a.estimator_doc_link:hover {\n",
       "  /* unfitted */\n",
       "  background-color: var(--sklearn-color-unfitted-level-3);\n",
       "  color: var(--sklearn-color-background);\n",
       "  text-decoration: none;\n",
       "}\n",
       "\n",
       "#sk-container-id-1 a.estimator_doc_link.fitted:hover {\n",
       "  /* fitted */\n",
       "  background-color: var(--sklearn-color-fitted-level-3);\n",
       "}\n",
       "</style><div id=\"sk-container-id-1\" class=\"sk-top-container\"><div class=\"sk-text-repr-fallback\"><pre>LogisticRegression()</pre><b>In a Jupyter environment, please rerun this cell to show the HTML representation or trust the notebook. <br />On GitHub, the HTML representation is unable to render, please try loading this page with nbviewer.org.</b></div><div class=\"sk-container\" hidden><div class=\"sk-item\"><div class=\"sk-estimator fitted sk-toggleable\"><input class=\"sk-toggleable__control sk-hidden--visually\" id=\"sk-estimator-id-1\" type=\"checkbox\" checked><label for=\"sk-estimator-id-1\" class=\"sk-toggleable__label fitted sk-toggleable__label-arrow\"><div><div>LogisticRegression</div></div><div><a class=\"sk-estimator-doc-link fitted\" rel=\"noreferrer\" target=\"_blank\" href=\"https://scikit-learn.org/1.6/modules/generated/sklearn.linear_model.LogisticRegression.html\">?<span>Documentation for LogisticRegression</span></a><span class=\"sk-estimator-doc-link fitted\">i<span>Fitted</span></span></div></label><div class=\"sk-toggleable__content fitted\"><pre>LogisticRegression()</pre></div> </div></div></div></div>"
      ],
      "text/plain": [
       "LogisticRegression()"
      ]
     },
     "execution_count": 127,
     "metadata": {},
     "output_type": "execute_result"
    }
   ],
   "source": [
    "lr = LogisticRegression()\n",
    "lr.fit(vectorized_x_train_smote, y_train_smote)"
   ]
  },
  {
   "cell_type": "code",
   "execution_count": 128,
   "id": "5a08aada-dc85-4959-8517-ebb7ffd578bd",
   "metadata": {},
   "outputs": [],
   "source": [
    "y_train_pred = lr.predict(vectorized_x_train_smote)  # Use lowercase 'lr'"
   ]
  },
  {
   "cell_type": "code",
   "execution_count": 129,
   "id": "969ec3e2-9482-4a2e-8760-1fa16f7d0d01",
   "metadata": {},
   "outputs": [
    {
     "data": {
      "text/plain": [
       "array([0, 1, 0, 0, 1, 0, 1, 1, 0, 0, 0, 1, 0, 0, 0, 1, 0, 1, 1, 0, 0, 0,\n",
       "       0, 0, 1, 1, 0, 0, 0, 1, 1, 0, 0, 0, 1, 0, 1, 0, 1, 0, 0, 0, 0, 0,\n",
       "       1, 1, 0, 0, 1, 0, 0, 0, 0, 0, 1, 1, 0, 0, 0, 0, 1, 0, 0, 1, 0, 0,\n",
       "       1, 0, 0, 0, 0, 0, 1, 1, 0, 0, 0, 0, 0, 1, 0, 0, 0, 0, 1, 1, 0, 0,\n",
       "       1, 0, 0, 0, 0, 0, 0, 0, 1, 0, 1, 0, 0, 0, 0, 1, 0, 0, 0, 0, 0, 0,\n",
       "       0, 0, 0, 0, 0, 0, 0, 0, 1, 1, 0, 0, 0, 1, 0, 0, 0, 1, 1, 1, 0, 0,\n",
       "       1, 1, 0, 0, 0, 1, 1, 0, 1, 0, 0, 1, 1, 0, 0, 1, 1, 0, 0, 0, 0, 0,\n",
       "       0, 1, 0, 1, 1, 0, 0, 0, 1, 0, 0, 0, 1, 1, 1, 0, 0, 0, 0, 0, 0, 0,\n",
       "       0, 0, 0, 1, 1, 0, 1, 1, 0, 0, 1, 0, 0, 1, 1, 1, 0, 0, 0, 0, 0, 1,\n",
       "       0, 1, 0, 0, 0, 0, 0, 0, 0, 1, 1, 0, 0, 0, 0, 0, 0, 0, 1, 0, 1, 1,\n",
       "       1, 0, 0, 0, 0, 0, 1, 1, 1, 1, 0, 0, 1, 0, 0, 1, 1, 0, 1, 1, 0, 1,\n",
       "       0, 0, 0, 1, 0, 1, 0, 1, 0, 0, 0, 1, 1, 0, 1, 0, 0, 0, 1, 1, 0, 0,\n",
       "       1, 0, 0, 1, 0, 0, 1, 0, 1, 1, 0, 0, 0, 0, 1, 1, 0, 1, 0, 0, 1, 0,\n",
       "       1, 0, 1, 0, 0, 0, 1, 1, 1, 1, 1, 1, 1, 0, 0, 0, 1, 0, 0, 0, 0, 1,\n",
       "       0, 1, 1, 0, 0, 0, 0, 1, 1, 0, 1, 1, 1, 1, 1, 0, 0, 0, 0, 0, 1, 1,\n",
       "       0, 1, 1, 0, 0, 1, 0, 1, 0, 0, 0, 0, 0, 0, 1, 0, 1, 0, 0, 0, 1, 0,\n",
       "       1, 1, 1, 0, 0, 0, 0, 0, 0, 0, 0, 0, 0, 0, 1, 0, 0, 0, 1, 0, 1, 0,\n",
       "       0, 1, 0, 1, 0, 0, 0, 1, 0, 0, 1, 1, 1, 0, 0, 1, 0, 0, 0, 0, 0, 1,\n",
       "       0, 0, 0, 0, 0, 0, 0, 0, 1, 1, 0, 0, 0, 1, 0, 0, 1, 0, 0, 0, 1, 1,\n",
       "       0, 0, 0, 0, 0, 1, 1, 1, 1, 0, 0, 0, 1, 1, 1, 1, 0, 1, 0, 0, 0, 0,\n",
       "       0, 0, 0, 0, 0, 0, 0, 0, 1, 0, 0, 0, 0, 0, 0, 0, 0, 0, 1, 0, 0, 0,\n",
       "       0, 0, 1, 0, 0, 0, 0, 0, 1, 1, 1, 0, 1, 1, 0, 0, 1, 0, 0, 0, 0, 0,\n",
       "       0, 1, 1, 0, 1, 0, 0, 1, 1, 0, 1, 1, 0, 0, 1, 1, 0, 0, 0, 0, 0, 1,\n",
       "       1, 0, 1, 0, 0, 1, 1, 1, 1, 0, 0, 1, 1, 0, 0, 1, 1, 0, 0, 0, 0, 1,\n",
       "       1, 0, 1, 0, 0, 0, 1, 0, 1, 0, 0, 1, 0, 1, 0, 0, 0, 0, 0, 1, 0, 0,\n",
       "       0, 0, 1, 0, 1, 0, 1, 0, 1, 0, 1, 0, 0, 1, 0, 0, 1, 1, 1, 1, 0, 1,\n",
       "       0, 0, 0, 1, 0, 0, 1, 1, 0, 0, 1, 0, 0, 0, 0, 0, 1, 0, 0, 0, 0, 0,\n",
       "       1, 1, 1, 1, 1, 0, 0, 1, 0, 1, 0, 0, 1, 0, 0, 0, 0, 1, 1, 0, 1, 1,\n",
       "       1, 1, 1, 1, 1, 1, 1, 1, 1, 1, 1, 1, 1, 1, 1, 1, 1, 1, 1, 1, 1, 1,\n",
       "       1, 1, 1, 1, 1, 1, 1, 1, 1, 1, 1, 1, 1, 1, 1, 1, 1, 1, 1, 1, 1, 1,\n",
       "       1, 1, 1, 1, 1, 1, 1, 1, 1, 1, 1, 1, 1, 1, 1, 1, 1, 1, 1, 1, 1, 1,\n",
       "       1, 1, 1, 1, 1, 1, 1, 1, 1, 1, 1, 1, 1, 1, 1, 1, 1, 1, 1, 1, 1, 1,\n",
       "       1, 1, 1, 1, 1, 1, 1, 1, 1, 1, 1, 1, 1, 1, 1, 1, 1, 1, 1, 1, 1, 1,\n",
       "       1, 1, 1, 1, 1, 1, 1, 1, 1, 1, 1, 1, 1, 1, 1, 1, 1, 1, 1, 1, 1, 1,\n",
       "       1, 1, 1, 1, 1, 1, 1, 1, 1, 1, 1, 1, 1, 1, 1, 1, 1, 1, 1, 1, 1, 1,\n",
       "       1, 1, 1, 1, 1, 1, 1, 1, 1, 1, 1, 1, 1, 1, 1, 1, 1, 1, 1, 1, 1, 1,\n",
       "       1, 1, 1, 1, 1, 1, 1, 1, 1, 1])"
      ]
     },
     "execution_count": 129,
     "metadata": {},
     "output_type": "execute_result"
    }
   ],
   "source": [
    "y_train_pred"
   ]
  },
  {
   "cell_type": "code",
   "execution_count": 130,
   "id": "d98f8f14-ab7f-4cb8-bf9e-d0a6c294a591",
   "metadata": {},
   "outputs": [
    {
     "data": {
      "text/plain": [
       "0      0\n",
       "1      1\n",
       "2      0\n",
       "3      0\n",
       "4      1\n",
       "      ..\n",
       "797    1\n",
       "798    1\n",
       "799    1\n",
       "800    1\n",
       "801    1\n",
       "Name: Outcome, Length: 802, dtype: int64"
      ]
     },
     "execution_count": 130,
     "metadata": {},
     "output_type": "execute_result"
    }
   ],
   "source": [
    "y_train_smote"
   ]
  },
  {
   "cell_type": "code",
   "execution_count": 131,
   "id": "5289d67e-89c2-483d-a3d3-ce51cb35ddff",
   "metadata": {},
   "outputs": [
    {
     "name": "stdout",
     "output_type": "stream",
     "text": [
      "Training Scores:\n",
      "\tAccuracy = 0.979\n",
      "\tPrecision = 0.973\n",
      "\tRecall = 0.985\n",
      "\tF1 Score = 0.979\n"
     ]
    }
   ],
   "source": [
    "training_scores(y_train_smote, y_train_pred)"
   ]
  },
  {
   "cell_type": "code",
   "execution_count": 132,
   "id": "65d41038-164b-4a4a-97c4-4780d85a9fe3",
   "metadata": {},
   "outputs": [],
   "source": [
    "y_test_pred = lr.predict(vectorized_x_test)"
   ]
  },
  {
   "cell_type": "code",
   "execution_count": 133,
   "id": "f6bbf1cc-0561-4934-b9ae-8fdba01f4d30",
   "metadata": {},
   "outputs": [
    {
     "data": {
      "text/plain": [
       "array([1, 0, 0, 0, 1, 0, 0, 1, 0, 0, 0, 1, 0, 1, 0, 1, 1, 0, 1, 0, 1, 0,\n",
       "       1, 0, 0, 1, 0, 0, 0, 0, 0, 0, 0, 1, 0, 1, 0, 1, 0, 1, 0, 0, 0, 1,\n",
       "       0, 1, 0, 1, 1, 1, 0, 1, 0, 1, 0, 0, 0, 0, 1, 1, 1, 0, 0, 0, 1, 0,\n",
       "       0, 0, 1, 0, 1, 0, 0, 0, 1, 0, 0, 0, 1, 0, 1, 0, 0, 0, 0, 0, 1, 0,\n",
       "       1, 0, 0, 0, 0, 1, 0, 0, 1, 0, 0, 0, 1, 0, 0, 1, 1, 1, 0, 1, 0, 1,\n",
       "       0, 1, 0, 1, 0, 0, 1, 1, 0, 1, 0, 0, 1, 0, 0, 1, 1, 1, 0, 1, 1, 0,\n",
       "       0, 1, 0, 1, 0, 1, 0, 0, 0, 0, 0, 0, 0, 1, 0, 0, 0, 1, 0, 0, 0, 0])"
      ]
     },
     "execution_count": 133,
     "metadata": {},
     "output_type": "execute_result"
    }
   ],
   "source": [
    "y_test_pred"
   ]
  },
  {
   "cell_type": "code",
   "execution_count": 134,
   "id": "2c898ac0-c195-4ff8-8536-decae25b9512",
   "metadata": {},
   "outputs": [
    {
     "data": {
      "text/plain": [
       "668    0\n",
       "324    0\n",
       "624    0\n",
       "690    0\n",
       "473    0\n",
       "      ..\n",
       "355    1\n",
       "534    0\n",
       "344    0\n",
       "296    1\n",
       "462    0\n",
       "Name: Outcome, Length: 154, dtype: int64"
      ]
     },
     "execution_count": 134,
     "metadata": {},
     "output_type": "execute_result"
    }
   ],
   "source": [
    "y_test"
   ]
  },
  {
   "cell_type": "code",
   "execution_count": 135,
   "id": "8c677bda-3052-4317-81bc-bac711ae4e13",
   "metadata": {},
   "outputs": [
    {
     "name": "stdout",
     "output_type": "stream",
     "text": [
      "Testing Scores:\n",
      "\tAccuracy = 0.636\n",
      "\tPrecision = 0.491\n",
      "\tRecall = 0.509\n",
      "\tF1 Score = 0.5\n"
     ]
    }
   ],
   "source": [
    "validation_scores(y_test,y_test_pred)"
   ]
  },
  {
   "cell_type": "code",
   "execution_count": 137,
   "id": "8e7190ef-6eee-4887-9f55-d8c4df608107",
   "metadata": {},
   "outputs": [
    {
     "name": "stdout",
     "output_type": "stream",
     "text": [
      "Training Scores:\n",
      "\tAccuracy = 0.979\n",
      "\tPrecision = 0.973\n",
      "\tRecall = 0.985\n",
      "\tF1 Score = 0.979\n",
      "Testing Scores:\n",
      "\tAccuracy = 0.636\n",
      "\tPrecision = 0.491\n",
      "\tRecall = 0.509\n",
      "\tF1 Score = 0.5\n"
     ]
    }
   ],
   "source": [
    "# Train the model\n",
    "lr = LogisticRegression()\n",
    "lr.fit(vectorized_x_train_smote, y_train_smote)\n",
    "\n",
    "# Predict\n",
    "y_train_pred = lr.predict(vectorized_x_train_smote)\n",
    "y_test_pred = lr.predict(vectorized_x_test)\n",
    "\n",
    "# Show scores\n",
    "training_scores(y_train_smote, y_train_pred)\n",
    "validation_scores(y_test, y_test_pred)"
   ]
  },
  {
   "cell_type": "code",
   "execution_count": 138,
   "id": "80a69179-04fd-4f02-b77c-26a209867aae",
   "metadata": {},
   "outputs": [],
   "source": [
    "from sklearn.preprocessing import MinMaxScaler\n",
    "\n",
    "scaler = MinMaxScaler()\n",
    "x_scaled = scaler.fit_transform(x)\n",
    "\n",
    "# Train-test split\n",
    "x_train, x_test, y_train, y_test = train_test_split(x_scaled, y, test_size=0.2, random_state=42)\n"
   ]
  },
  {
   "cell_type": "code",
   "execution_count": 139,
   "id": "3112fdb2-6a0b-49c1-ba9f-717f11754332",
   "metadata": {},
   "outputs": [],
   "source": [
    "from imblearn.over_sampling import SMOTE\n",
    "\n",
    "smote = SMOTE(random_state=42)\n",
    "x_train_smote, y_train_smote = smote.fit_resample(x_train, y_train)\n"
   ]
  },
  {
   "cell_type": "code",
   "execution_count": 140,
   "id": "1941069a-0624-4e92-9183-0468b1d8f2db",
   "metadata": {},
   "outputs": [
    {
     "name": "stdout",
     "output_type": "stream",
     "text": [
      "Training Scores:\n",
      "\tAccuracy = 0.761\n",
      "\tPrecision = 0.766\n",
      "\tRecall = 0.751\n",
      "\tF1 Score = 0.758\n",
      "Testing Scores:\n",
      "\tAccuracy = 0.708\n",
      "\tPrecision = 0.569\n",
      "\tRecall = 0.745\n",
      "\tF1 Score = 0.646\n"
     ]
    }
   ],
   "source": [
    "model = LogisticRegression()\n",
    "model.fit(x_train_smote, y_train_smote)\n",
    "\n",
    "y_train_pred = model.predict(x_train_smote)\n",
    "y_test_pred = model.predict(x_test)\n",
    "\n",
    "training_scores(y_train_smote, y_train_pred)\n",
    "validation_scores(y_test, y_test_pred)\n"
   ]
  },
  {
   "cell_type": "code",
   "execution_count": 141,
   "id": "5ab3795f-8a73-462f-93e7-ab85e9faf0f2",
   "metadata": {},
   "outputs": [],
   "source": [
    "from sklearn.ensemble import RandomForestClassifier\n",
    "model = RandomForestClassifier()\n"
   ]
  },
  {
   "cell_type": "code",
   "execution_count": 143,
   "id": "38a7ac23-c7c5-4ab0-91f0-95b392ac4f1a",
   "metadata": {},
   "outputs": [
    {
     "name": "stdout",
     "output_type": "stream",
     "text": [
      "Collecting seaborn\n",
      "  Downloading seaborn-0.13.2-py3-none-any.whl.metadata (5.4 kB)\n",
      "Requirement already satisfied: numpy!=1.24.0,>=1.20 in c:\\users\\hp\\desktop\\patient_monitoring_pro\\env\\lib\\site-packages (from seaborn) (2.2.6)\n",
      "Requirement already satisfied: pandas>=1.2 in c:\\users\\hp\\desktop\\patient_monitoring_pro\\env\\lib\\site-packages (from seaborn) (2.2.3)\n",
      "Requirement already satisfied: matplotlib!=3.6.1,>=3.4 in c:\\users\\hp\\desktop\\patient_monitoring_pro\\env\\lib\\site-packages (from seaborn) (3.10.3)\n",
      "Requirement already satisfied: contourpy>=1.0.1 in c:\\users\\hp\\desktop\\patient_monitoring_pro\\env\\lib\\site-packages (from matplotlib!=3.6.1,>=3.4->seaborn) (1.3.2)\n",
      "Requirement already satisfied: cycler>=0.10 in c:\\users\\hp\\desktop\\patient_monitoring_pro\\env\\lib\\site-packages (from matplotlib!=3.6.1,>=3.4->seaborn) (0.12.1)\n",
      "Requirement already satisfied: fonttools>=4.22.0 in c:\\users\\hp\\desktop\\patient_monitoring_pro\\env\\lib\\site-packages (from matplotlib!=3.6.1,>=3.4->seaborn) (4.58.0)\n",
      "Requirement already satisfied: kiwisolver>=1.3.1 in c:\\users\\hp\\desktop\\patient_monitoring_pro\\env\\lib\\site-packages (from matplotlib!=3.6.1,>=3.4->seaborn) (1.4.8)\n",
      "Requirement already satisfied: packaging>=20.0 in c:\\users\\hp\\desktop\\patient_monitoring_pro\\env\\lib\\site-packages (from matplotlib!=3.6.1,>=3.4->seaborn) (25.0)\n",
      "Requirement already satisfied: pillow>=8 in c:\\users\\hp\\desktop\\patient_monitoring_pro\\env\\lib\\site-packages (from matplotlib!=3.6.1,>=3.4->seaborn) (11.2.1)\n",
      "Requirement already satisfied: pyparsing>=2.3.1 in c:\\users\\hp\\desktop\\patient_monitoring_pro\\env\\lib\\site-packages (from matplotlib!=3.6.1,>=3.4->seaborn) (3.2.3)\n",
      "Requirement already satisfied: python-dateutil>=2.7 in c:\\users\\hp\\desktop\\patient_monitoring_pro\\env\\lib\\site-packages (from matplotlib!=3.6.1,>=3.4->seaborn) (2.9.0.post0)\n",
      "Requirement already satisfied: pytz>=2020.1 in c:\\users\\hp\\desktop\\patient_monitoring_pro\\env\\lib\\site-packages (from pandas>=1.2->seaborn) (2025.2)\n",
      "Requirement already satisfied: tzdata>=2022.7 in c:\\users\\hp\\desktop\\patient_monitoring_pro\\env\\lib\\site-packages (from pandas>=1.2->seaborn) (2025.2)\n",
      "Requirement already satisfied: six>=1.5 in c:\\users\\hp\\desktop\\patient_monitoring_pro\\env\\lib\\site-packages (from python-dateutil>=2.7->matplotlib!=3.6.1,>=3.4->seaborn) (1.17.0)\n",
      "Downloading seaborn-0.13.2-py3-none-any.whl (294 kB)\n",
      "Installing collected packages: seaborn\n",
      "Successfully installed seaborn-0.13.2\n"
     ]
    }
   ],
   "source": [
    "!pip install seaborn"
   ]
  },
  {
   "cell_type": "code",
   "execution_count": 144,
   "id": "ff36d419-b4b2-4812-ab3e-3e8206a4a612",
   "metadata": {},
   "outputs": [
    {
     "data": {
      "image/png": "[encoded data removed]",
      "text/plain": [
       "<Figure size 640x480 with 1 Axes>"
      ]
     },
     "metadata": {},
     "output_type": "display_data"
    },
    {
     "data": {
      "image/png": "[encoded data removed]",
      "text/plain": [
       "<Figure size 640x480 with 1 Axes>"
      ]
     },
     "metadata": {},
     "output_type": "display_data"
    }
   ],
   "source": [
    "import seaborn as sns\n",
    "import matplotlib.pyplot as plt\n",
    "\n",
    "sns.countplot(x=y)\n",
    "plt.title(\"Original Class Distribution\")\n",
    "plt.show()\n",
    "\n",
    "sns.countplot(x=y_train_smote)\n",
    "plt.title(\"After SMOTE\")\n",
    "plt.show()\n"
   ]
  },
  {
   "cell_type": "markdown",
   "id": "23a9ddc6-6beb-4561-90ea-9802e5d59d1d",
   "metadata": {},
   "source": [
    "## Naive Bayes"
   ]
  },
  {
   "cell_type": "code",
   "execution_count": 146,
   "id": "65c5642b-5528-4118-85a8-445ae26ae5da",
   "metadata": {},
   "outputs": [
    {
     "name": "stdout",
     "output_type": "stream",
     "text": [
      "Training Scores:\n",
      "\tAccuracy = 0.635\n",
      "\tPrecision = 0.652\n",
      "\tRecall = 0.579\n",
      "\tF1 Score = 0.613\n",
      "Testing Scores:\n",
      "\tAccuracy = 0.604\n",
      "\tPrecision = 0.457\n",
      "\tRecall = 0.582\n",
      "\tF1 Score = 0.512\n"
     ]
    }
   ],
   "source": [
    "mnb = MultinomialNB()\n",
    "mnb.fit(x_train_smote, y_train_smote)\n",
    "\n",
    "y_train_pred = mnb.predict(x_train_smote)\n",
    "y_test_pred = mnb.predict(x_test)\n",
    "\n",
    "training_scores(y_train_smote, y_train_pred)\n",
    "validation_scores(y_test, y_test_pred)"
   ]
  },
  {
   "cell_type": "markdown",
   "id": "2aa038c0-d883-488b-9c35-5efe241bb905",
   "metadata": {},
   "source": [
    "## Decision Tree"
   ]
  },
  {
   "cell_type": "code",
   "execution_count": 147,
   "id": "c50da9ee-b7df-466c-9652-48f29c2bd57c",
   "metadata": {},
   "outputs": [
    {
     "name": "stdout",
     "output_type": "stream",
     "text": [
      "Training Scores:\n",
      "\tAccuracy = 1.0\n",
      "\tPrecision = 1.0\n",
      "\tRecall = 1.0\n",
      "\tF1 Score = 1.0\n",
      "Testing Scores:\n",
      "\tAccuracy = 0.708\n",
      "\tPrecision = 0.571\n",
      "\tRecall = 0.727\n",
      "\tF1 Score = 0.64\n"
     ]
    }
   ],
   "source": [
    "dt = DecisionTreeClassifier()\n",
    "dt.fit(x_train_smote, y_train_smote)\n",
    "\n",
    "y_train_pred = dt.predict(x_train_smote)\n",
    "y_test_pred = dt.predict(x_test)\n",
    "\n",
    "training_scores(y_train_smote, y_train_pred)\n",
    "validation_scores(y_test, y_test_pred)"
   ]
  },
  {
   "cell_type": "code",
   "execution_count": 154,
   "id": "1d19e978-c110-4183-a689-363efaed7e84",
   "metadata": {},
   "outputs": [
    {
     "name": "stdout",
     "output_type": "stream",
     "text": [
      "Training Scores:\n",
      "\tAccuracy = 1.0\n",
      "\tPrecision = 1.0\n",
      "\tRecall = 1.0\n",
      "\tF1 Score = 1.0\n",
      "Testing Scores:\n",
      "\tAccuracy = 0.714\n",
      "\tPrecision = 0.585\n",
      "\tRecall = 0.691\n",
      "\tF1 Score = 0.633\n"
     ]
    }
   ],
   "source": [
    "dt = DecisionTreeClassifier()\n",
    "dt.fit(x_train_smote, y_train_smote)\n",
    "\n",
    "y_train_pred = dt.predict(x_train_smote)\n",
    "y_test_pred = dt.predict(x_test)\n",
    "\n",
    "training_scores(y_train_smote, y_train_pred)\n",
    "validation_scores(y_test, y_test_pred)"
   ]
  },
  {
   "cell_type": "markdown",
   "id": "1c014dfd-3cd3-41ad-94e2-66b580ddaa9d",
   "metadata": {},
   "source": [
    "## Random Forest"
   ]
  },
  {
   "cell_type": "code",
   "execution_count": 176,
   "id": "9f20f82a-8198-46d4-ba46-8b3ac42dd1d9",
   "metadata": {},
   "outputs": [
    {
     "name": "stdout",
     "output_type": "stream",
     "text": [
      "Training Scores:\n",
      "\tAccuracy = 1.0\n",
      "\tPrecision = 1.0\n",
      "\tRecall = 1.0\n",
      "\tF1 Score = 1.0\n",
      "Testing Scores:\n",
      "\tAccuracy = 0.76\n",
      "\tPrecision = 0.636\n",
      "\tRecall = 0.764\n",
      "\tF1 Score = 0.694\n"
     ]
    }
   ],
   "source": [
    "rf = RandomForestClassifier()\n",
    "rf.fit(x_train_smote, y_train_smote)\n",
    "\n",
    "y_train_pred = rf.predict(x_train_smote)\n",
    "y_test_pred = rf.predict(x_test)\n",
    "\n",
    "training_scores(y_train_smote, y_train_pred)\n",
    "validation_scores(y_test, y_test_pred)"
   ]
  },
  {
   "cell_type": "markdown",
   "id": "a7cecc42-2564-4fc6-a1d1-067b8aa426bf",
   "metadata": {},
   "source": [
    "## Support Vector Machine"
   ]
  },
  {
   "cell_type": "code",
   "execution_count": 177,
   "id": "5a13af55-bf8c-4473-8701-dce3c34f360f",
   "metadata": {},
   "outputs": [
    {
     "name": "stdout",
     "output_type": "stream",
     "text": [
      "Training Scores:\n",
      "\tAccuracy = 0.796\n",
      "\tPrecision = 0.781\n",
      "\tRecall = 0.82\n",
      "\tF1 Score = 0.8\n",
      "Testing Scores:\n",
      "\tAccuracy = 0.701\n",
      "\tPrecision = 0.563\n",
      "\tRecall = 0.727\n",
      "\tF1 Score = 0.635\n"
     ]
    }
   ],
   "source": [
    "svm = SVC()\n",
    "svm.fit(x_train_smote, y_train_smote)\n",
    "\n",
    "y_train_pred = svm.predict(x_train_smote)\n",
    "y_test_pred = svm.predict(x_test)\n",
    "\n",
    "training_scores(y_train_smote, y_train_pred)\n",
    "validation_scores(y_test, y_test_pred)"
   ]
  },
  {
   "cell_type": "code",
   "execution_count": 179,
   "id": "4cf3c64c-cda8-48da-a083-a22516999af0",
   "metadata": {},
   "outputs": [],
   "source": [
    "import pickle\n",
    "\n",
    "with open('../static/model/model.pickle','wb')as file:\n",
    "\tpickle.dump(df,file)"
   ]
  },
  {
   "cell_type": "code",
   "execution_count": null,
   "id": "e7554326-2930-480a-8cc9-25b3877ff02d",
   "metadata": {},
   "outputs": [],
   "source": []
  }
 ],
 "metadata": {
  "kernelspec": {
   "display_name": "Python 3 (ipykernel)",
   "language": "python",
   "name": "python3"
  },
  "language_info": {
   "codemirror_mode": {
    "name": "ipython",
    "version": 3
   },
   "file_extension": ".py",
   "mimetype": "text/x-python",
   "name": "python",
   "nbconvert_exporter": "python",
   "pygments_lexer": "ipython3",
   "version": "3.13.3"
  }
 },
 "nbformat": 4,
 "nbformat_minor": 5
}
